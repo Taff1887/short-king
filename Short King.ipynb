{
 "cells": [
  {
   "cell_type": "markdown",
   "id": "d4b132b8",
   "metadata": {},
   "source": [
    "# ASX Short Interest Signal"
   ]
  },
  {
   "cell_type": "markdown",
   "id": "f6ab7d6f",
   "metadata": {},
   "source": [
    "## Import Libraries"
   ]
  },
  {
   "cell_type": "code",
   "execution_count": 15,
   "id": "41752eab",
   "metadata": {},
   "outputs": [],
   "source": [
    "import pandas as pd\n",
    "import datetime as dt\n",
    "import tabula\n",
    "import sys, subprocess\n",
    "from pandas.tseries.offsets import BDay\n",
    "import yfinance as yf\n",
    "import time\n",
    "import numpy as np\n",
    "import tabula, concurrent.futures, functools\n",
    "import concurrent.futures\n",
    "import time, random, concurrent.futures\n",
    "from sklearn.linear_model import Ridge\n",
    "from sklearn.preprocessing import StandardScaler\n",
    "from sklearn.pipeline import Pipeline\n",
    "from sklearn.model_selection import TimeSeriesSplit\n",
    "from sklearn.linear_model import LogisticRegression\n",
    "from sklearn.metrics import roc_auc_score\n",
    "import warnings\n",
    "import matplotlib.pyplot as plt\n",
    "import statsmodels.api as sm\n"
   ]
  },
  {
   "cell_type": "markdown",
   "id": "9f73ee0f",
   "metadata": {},
   "source": [
    "## Import Data\n",
    "### Extracting and cleaning 52 weeks of ASX short interest data from ASIC. "
   ]
  },
  {
   "cell_type": "code",
   "execution_count": 2,
   "id": "47a61c98",
   "metadata": {},
   "outputs": [
    {
     "name": "stderr",
     "output_type": "stream",
     "text": [
      "Failed to import jpype dependencies. Fallback to subprocess.\n",
      "No module named 'jpype'\n"
     ]
    },
    {
     "name": "stdout",
     "output_type": "stream",
     "text": [
      "Filtered out 63104 non-ordinary securities (bonds, ETFs, hybrids).\n",
      "\n",
      "Loaded 794 as-of dates, 2460 unique tickers, 370271 total rows (equities only).\n"
     ]
    }
   ],
   "source": [
    "# --------- CONFIG ----------\n",
    "WEEKS_TO_LOAD = 796\n",
    "BASE = \"https://download.asic.gov.au/short-selling/RR{datestr}-001-SSDailyAggShortPos.pdf\"\n",
    "\n",
    "# --------- Helpers ----------\n",
    "def _norm_cols(cols):\n",
    "    return [c.strip().lower().replace(\"\\n\", \" \").replace(\"  \", \" \") for c in cols]\n",
    "\n",
    "def _num(s):\n",
    "    return pd.to_numeric(pd.Series(s).astype(str).str.replace(\",\", \"\").str.strip(), errors=\"coerce\")\n",
    "\n",
    "def _is_ticker(x):\n",
    "    \"\"\"ASX tickers are 1–6 alphanumeric chars (allow '.'), no spaces.\"\"\"\n",
    "    if pd.isna(x): return False\n",
    "    s = str(x).strip()\n",
    "    if s.lower().startswith(\"product code\"): return False\n",
    "    if \" \" in s: return False\n",
    "    return 1 <= len(s.replace(\".\", \"\")) <= 6 and s.replace(\".\", \"\").isalnum()\n",
    "\n",
    "def _rename_clean_one(df):\n",
    "    raw, norm = list(df.columns), _norm_cols(df.columns)\n",
    "    cmap = {}\n",
    "    for i, c in enumerate(norm):\n",
    "        if c.startswith(\"product code\"): cmap[raw[i]] = \"Ticker\"\n",
    "        elif c.startswith(\"product\"): cmap[raw[i]] = \"Company\"\n",
    "        elif \"reported short position\" in c and \"reported as short\" not in c:\n",
    "            cmap[raw[i]] = \"Short Positions\"\n",
    "        elif \"total product in issue\" in c and \"reported as short\" not in c:\n",
    "            cmap[raw[i]] = \"Total Volume\"\n",
    "        elif \"% of total product in issue reported as short positions\" in c or c.endswith(\"short positions\"):\n",
    "            cmap[raw[i]] = \"Shorts (%)\"\n",
    "    df = df.rename(columns=cmap)\n",
    "    keep = [\"Company\",\"Ticker\",\"Short Positions\",\"Total Volume\",\"Shorts (%)\"]\n",
    "    df = df[[c for c in keep if c in df.columns]].copy()\n",
    "    if \"Ticker\" in df.columns:\n",
    "        df = df[df[\"Ticker\"].apply(_is_ticker)]\n",
    "    if \"Short Positions\" in df.columns:\n",
    "        df[\"Short Positions\"] = _num(df[\"Short Positions\"])\n",
    "    if \"Total Volume\" in df.columns:\n",
    "        df[\"Total Volume\"] = _num(df[\"Total Volume\"])\n",
    "    if \"Shorts (%)\" in df.columns:\n",
    "        df[\"Shorts (%)\"] = pd.to_numeric(df[\"Shorts (%)\"], errors=\"coerce\")\n",
    "    if \"Shorts (%)\" not in df.columns and {\"Short Positions\",\"Total Volume\"}.issubset(df.columns):\n",
    "        df[\"Shorts (%)\"] = (df[\"Short Positions\"] / df[\"Total Volume\"]) * 100\n",
    "    for col in keep:\n",
    "        if col not in df.columns: df[col] = pd.NA\n",
    "    return df[keep]\n",
    "\n",
    "def _read_all_tables(url):\n",
    "    for kw in (dict(lattice=True), dict(stream=True)):\n",
    "        try:\n",
    "            t = tabula.read_pdf(url, pages=\"all\", multiple_tables=True, **kw)\n",
    "            if t and len(t) > 0:\n",
    "                return t\n",
    "        except Exception:\n",
    "            pass\n",
    "    return []\n",
    "\n",
    "def most_recent_friday(ref_date=None):\n",
    "    if ref_date is None:\n",
    "        ref_date = dt.date.today()\n",
    "    offset = (ref_date.weekday() - 4) % 7\n",
    "    return ref_date - dt.timedelta(days=offset)\n",
    "\n",
    "def fetch_eow_for_friday(friday_date: dt.date, max_back_days=6) -> pd.DataFrame:\n",
    "    for delta in range(0, max_back_days+1):\n",
    "        day = friday_date - dt.timedelta(days=delta)\n",
    "        ds = day.strftime(\"%Y%m%d\")\n",
    "        url = BASE.format(datestr=ds)\n",
    "        tables = _read_all_tables(url)\n",
    "        if not tables: continue\n",
    "        cleaned = []\n",
    "        for t in tables:\n",
    "            if isinstance(t, pd.DataFrame) and len(t) >= 4 and len(t) > 0:\n",
    "                cleaned.append(_rename_clean_one(t.dropna(how=\"all\")))\n",
    "        if not cleaned: continue\n",
    "        out = pd.concat(cleaned, ignore_index=True).drop_duplicates()\n",
    "        if not out.empty:\n",
    "            release_dt = pd.to_datetime(ds, format=\"%Y%m%d\")\n",
    "            asof_dt = (release_dt - BDay(4)).normalize()\n",
    "            out.insert(0, \"Date\", asof_dt)\n",
    "            out.insert(1, \"ReleaseDate\", release_dt)\n",
    "            return out\n",
    "    return pd.DataFrame()\n",
    "\n",
    "# --------- MAIN ----------\n",
    "anchor_friday = most_recent_friday()\n",
    "fridays = [anchor_friday - dt.timedelta(weeks=k) for k in range(WEEKS_TO_LOAD)]\n",
    "\n",
    "with concurrent.futures.ThreadPoolExecutor(max_workers=6) as ex:\n",
    "    frames = list(ex.map(fetch_eow_for_friday, fridays))\n",
    "\n",
    "frames = [f for f in frames if not f.empty]\n",
    "if not frames:\n",
    "    raise RuntimeError(\"No ASIC EOW reports could be fetched. Check internet/Java (tabula).\")\n",
    "\n",
    "hist_df = (pd.concat(frames, ignore_index=True)\n",
    "              .drop_duplicates(subset=[\"Date\",\"Ticker\"])\n",
    "              .sort_values([\"Date\",\"Ticker\"])\n",
    "              .reset_index(drop=True))\n",
    "\n",
    "# ---------- Filter: Keep only equities (ORDINARY shares) ----------\n",
    "before = len(hist_df)\n",
    "hist_df = hist_df[hist_df[\"Company\"].str.contains(\"ORDINARY\", case=False, na=False)]\n",
    "after = len(hist_df)\n",
    "print(f\"Filtered out {before - after} non-ordinary securities (bonds, ETFs, hybrids).\")\n",
    "\n",
    "# ---------- Summary ----------\n",
    "print(f\"\\nLoaded {hist_df['Date'].dt.date.nunique()} as-of dates, \"\n",
    "      f\"{hist_df['Ticker'].nunique()} unique tickers, \"\n",
    "      f\"{len(hist_df)} total rows (equities only).\")"
   ]
  },
  {
   "cell_type": "code",
   "execution_count": 3,
   "id": "f81b6a5d",
   "metadata": {},
   "outputs": [
    {
     "name": "stdout",
     "output_type": "stream",
     "text": [
      "\n",
      "Preview of cleaned ASIC short data:\n"
     ]
    },
    {
     "data": {
      "text/html": [
       "<div>\n",
       "<style scoped>\n",
       "    .dataframe tbody tr th:only-of-type {\n",
       "        vertical-align: middle;\n",
       "    }\n",
       "\n",
       "    .dataframe tbody tr th {\n",
       "        vertical-align: top;\n",
       "    }\n",
       "\n",
       "    .dataframe thead th {\n",
       "        text-align: right;\n",
       "    }\n",
       "</style>\n",
       "<table border=\"1\" class=\"dataframe\">\n",
       "  <thead>\n",
       "    <tr style=\"text-align: right;\">\n",
       "      <th></th>\n",
       "      <th>Date</th>\n",
       "      <th>ReleaseDate</th>\n",
       "      <th>Ticker</th>\n",
       "      <th>Company</th>\n",
       "      <th>Short Positions</th>\n",
       "      <th>Total Volume</th>\n",
       "      <th>Shorts (%)</th>\n",
       "    </tr>\n",
       "  </thead>\n",
       "  <tbody>\n",
       "    <tr>\n",
       "      <th>433358</th>\n",
       "      <td>2025-08-22</td>\n",
       "      <td>2025-08-28</td>\n",
       "      <td>WHC</td>\n",
       "      <td>WHITEHAVEN COAL ORDINARY</td>\n",
       "      <td>32688685</td>\n",
       "      <td>832423807</td>\n",
       "      <td>3.93</td>\n",
       "    </tr>\n",
       "    <tr>\n",
       "      <th>433359</th>\n",
       "      <td>2025-08-22</td>\n",
       "      <td>2025-08-28</td>\n",
       "      <td>WHK</td>\n",
       "      <td>WHITEHAWK LIMITED ORDINARY</td>\n",
       "      <td>69610</td>\n",
       "      <td>876984963</td>\n",
       "      <td>0.01</td>\n",
       "    </tr>\n",
       "    <tr>\n",
       "      <th>433360</th>\n",
       "      <td>2025-08-22</td>\n",
       "      <td>2025-08-28</td>\n",
       "      <td>WJL</td>\n",
       "      <td>WEBJET GROUP LIMITED ORDINARY</td>\n",
       "      <td>1603102</td>\n",
       "      <td>392530357</td>\n",
       "      <td>0.41</td>\n",
       "    </tr>\n",
       "    <tr>\n",
       "      <th>433361</th>\n",
       "      <td>2025-08-22</td>\n",
       "      <td>2025-08-28</td>\n",
       "      <td>WMG</td>\n",
       "      <td>WESTERN MINES ORDINARY</td>\n",
       "      <td>292</td>\n",
       "      <td>97188344</td>\n",
       "      <td>0.00</td>\n",
       "    </tr>\n",
       "    <tr>\n",
       "      <th>433362</th>\n",
       "      <td>2025-08-22</td>\n",
       "      <td>2025-08-28</td>\n",
       "      <td>WOR</td>\n",
       "      <td>WORLEY LIMITED ORDINARY</td>\n",
       "      <td>1154996</td>\n",
       "      <td>516038800</td>\n",
       "      <td>0.22</td>\n",
       "    </tr>\n",
       "    <tr>\n",
       "      <th>433363</th>\n",
       "      <td>2025-08-22</td>\n",
       "      <td>2025-08-28</td>\n",
       "      <td>WOW</td>\n",
       "      <td>WOOLWORTHS GROUP LTD ORDINARY</td>\n",
       "      <td>14474023</td>\n",
       "      <td>1221595333</td>\n",
       "      <td>1.18</td>\n",
       "    </tr>\n",
       "    <tr>\n",
       "      <th>433365</th>\n",
       "      <td>2025-08-22</td>\n",
       "      <td>2025-08-28</td>\n",
       "      <td>WTC</td>\n",
       "      <td>WISETECH GLOBAL LTD ORDINARY</td>\n",
       "      <td>4068174</td>\n",
       "      <td>334622986</td>\n",
       "      <td>1.22</td>\n",
       "    </tr>\n",
       "    <tr>\n",
       "      <th>433370</th>\n",
       "      <td>2025-08-22</td>\n",
       "      <td>2025-08-28</td>\n",
       "      <td>XRO</td>\n",
       "      <td>XERO LTD ORDINARY</td>\n",
       "      <td>1890673</td>\n",
       "      <td>165381624</td>\n",
       "      <td>1.14</td>\n",
       "    </tr>\n",
       "    <tr>\n",
       "      <th>433373</th>\n",
       "      <td>2025-08-22</td>\n",
       "      <td>2025-08-28</td>\n",
       "      <td>YAL</td>\n",
       "      <td>YANCOAL AUST LTD ORDINARY</td>\n",
       "      <td>33371106</td>\n",
       "      <td>1320439437</td>\n",
       "      <td>2.53</td>\n",
       "    </tr>\n",
       "    <tr>\n",
       "      <th>433374</th>\n",
       "      <td>2025-08-22</td>\n",
       "      <td>2025-08-28</td>\n",
       "      <td>ZIP</td>\n",
       "      <td>ZIP CO LTD.. ORDINARY</td>\n",
       "      <td>40428382</td>\n",
       "      <td>1290833227</td>\n",
       "      <td>3.13</td>\n",
       "    </tr>\n",
       "  </tbody>\n",
       "</table>\n",
       "</div>"
      ],
      "text/plain": [
       "             Date ReleaseDate Ticker                        Company  \\\n",
       "433358 2025-08-22  2025-08-28    WHC       WHITEHAVEN COAL ORDINARY   \n",
       "433359 2025-08-22  2025-08-28    WHK     WHITEHAWK LIMITED ORDINARY   \n",
       "433360 2025-08-22  2025-08-28    WJL  WEBJET GROUP LIMITED ORDINARY   \n",
       "433361 2025-08-22  2025-08-28    WMG         WESTERN MINES ORDINARY   \n",
       "433362 2025-08-22  2025-08-28    WOR        WORLEY LIMITED ORDINARY   \n",
       "433363 2025-08-22  2025-08-28    WOW  WOOLWORTHS GROUP LTD ORDINARY   \n",
       "433365 2025-08-22  2025-08-28    WTC   WISETECH GLOBAL LTD ORDINARY   \n",
       "433370 2025-08-22  2025-08-28    XRO              XERO LTD ORDINARY   \n",
       "433373 2025-08-22  2025-08-28    YAL      YANCOAL AUST LTD ORDINARY   \n",
       "433374 2025-08-22  2025-08-28    ZIP          ZIP CO LTD.. ORDINARY   \n",
       "\n",
       "        Short Positions  Total Volume  Shorts (%)  \n",
       "433358         32688685     832423807        3.93  \n",
       "433359            69610     876984963        0.01  \n",
       "433360          1603102     392530357        0.41  \n",
       "433361              292      97188344        0.00  \n",
       "433362          1154996     516038800        0.22  \n",
       "433363         14474023    1221595333        1.18  \n",
       "433365          4068174     334622986        1.22  \n",
       "433370          1890673     165381624        1.14  \n",
       "433373         33371106    1320439437        2.53  \n",
       "433374         40428382    1290833227        3.13  "
      ]
     },
     "metadata": {},
     "output_type": "display_data"
    }
   ],
   "source": [
    "# ---------- Preview ----------\n",
    "print(\"\\nPreview of cleaned ASIC short data:\")\n",
    "display(\n",
    "    hist_df.tail(10)[\n",
    "        [\"Date\", \"ReleaseDate\", \"Ticker\", \"Company\",\n",
    "         \"Short Positions\", \"Total Volume\", \"Shorts (%)\"]\n",
    "    ]\n",
    ")"
   ]
  },
  {
   "cell_type": "markdown",
   "id": "a6a6e5e3",
   "metadata": {},
   "source": [
    "### Add share price at release date and trading date as well as free float and SI (% of free float)"
   ]
  },
  {
   "cell_type": "code",
   "execution_count": 4,
   "id": "810ef5c0",
   "metadata": {},
   "outputs": [
    {
     "name": "stderr",
     "output_type": "stream",
     "text": [
      "HTTP Error 404: \n",
      "HTTP Error 404: \n",
      "HTTP Error 404: \n",
      "HTTP Error 404: \n",
      "HTTP Error 404: \n",
      "HTTP Error 404: \n",
      "HTTP Error 404: \n",
      "HTTP Error 404: \n",
      "HTTP Error 404: \n",
      "HTTP Error 404: \n",
      "HTTP Error 404: \n",
      "HTTP Error 404: \n",
      "HTTP Error 404: \n",
      "HTTP Error 404: \n",
      "HTTP Error 404: \n",
      "HTTP Error 404: \n",
      "HTTP Error 404: \n",
      "HTTP Error 404: \n",
      "HTTP Error 404: \n",
      "HTTP Error 404: \n",
      "HTTP Error 404: \n",
      "HTTP Error 404: \n",
      "HTTP Error 404: \n",
      "HTTP Error 404: \n",
      "HTTP Error 404: \n",
      "HTTP Error 404: \n",
      "HTTP Error 404: \n",
      "HTTP Error 404: \n",
      "HTTP Error 404: \n",
      "HTTP Error 404: \n",
      "HTTP Error 404: \n",
      "HTTP Error 404: \n",
      "HTTP Error 404: \n",
      "HTTP Error 404: \n",
      "HTTP Error 404: \n",
      "HTTP Error 404: \n",
      "HTTP Error 404: \n",
      "HTTP Error 404: \n",
      "HTTP Error 404: \n",
      "HTTP Error 404: \n",
      "HTTP Error 404: \n",
      "HTTP Error 404: \n",
      "HTTP Error 404: \n",
      "HTTP Error 404: \n",
      "HTTP Error 404: \n",
      "HTTP Error 404: \n",
      "HTTP Error 404: \n",
      "\n",
      "17 Failed downloads:\n",
      "['ABC.AX', 'ACB.AX', 'ABA.AX', '8EC.AX', '92E.AX', '9SP.AX', '2BE.AX', '4CE.AX', 'AB1.AX', 'A2B.AX', 'ABR.AX', 'A40.AX']: YFTzMissingError('possibly delisted; no timezone found')\n",
      "['AAE.AX', 'ABU.AX', 'AAO.AX', '3DM.AX', 'AAX.AX']: YFPricesMissingError('possibly delisted; no price data found  (1d 2010-06-12 -> 2025-09-02)')\n"
     ]
    },
    {
     "name": "stdout",
     "output_type": "stream",
     "text": [
      "✓ Batch 1: 50 tickers\n"
     ]
    },
    {
     "name": "stderr",
     "output_type": "stream",
     "text": [
      "\n",
      "14 Failed downloads:\n",
      "['ADU.AX', 'AEO.AX', 'AGF.AX', 'AEK.AX', 'ACG.AX', 'AED.AX', 'AFY.AX', 'AEJ.AX', 'AGK.AX']: YFPricesMissingError('possibly delisted; no price data found  (1d 2010-06-12 -> 2025-09-02)')\n",
      "['ADJ.AX', 'ADA.AX', 'AFJ.AX', 'ACN.AX', 'AGJ.AX']: YFTzMissingError('possibly delisted; no timezone found')\n"
     ]
    },
    {
     "name": "stdout",
     "output_type": "stream",
     "text": [
      "✓ Batch 2: 50 tickers\n"
     ]
    },
    {
     "name": "stderr",
     "output_type": "stream",
     "text": [
      "\n",
      "18 Failed downloads:\n",
      "['AIK.AX', 'AKK.AX', 'AHD.AX', 'AIX.AX', 'AHE.AX', 'AIO.AX']: YFPricesMissingError('possibly delisted; no price data found  (1d 2010-06-12 -> 2025-09-02)')\n",
      "['AHQ.AX', 'AKI.AX', 'AJM.AX', 'AJC.AX', 'AHZ.AX', 'ALG.AX', 'AKE.AX', 'AIR.AX', 'AHG.AX', 'ALF.AX', 'AGS.AX', 'AHY.AX']: YFTzMissingError('possibly delisted; no timezone found')\n"
     ]
    },
    {
     "name": "stdout",
     "output_type": "stream",
     "text": [
      "✓ Batch 3: 50 tickers\n"
     ]
    },
    {
     "name": "stderr",
     "output_type": "stream",
     "text": [
      "\n",
      "19 Failed downloads:\n",
      "['ANP.AX', 'AND.AX', 'AML.AX', 'APD.AX', 'AMB.AX', 'APM.AX', 'ALU.AX', 'AMG.AX', 'ANW.AX', 'AOP.AX', 'ANA.AX', 'AOU.AX', 'APT.AX', 'API.AX', 'AMM.AX']: YFTzMissingError('possibly delisted; no timezone found')\n",
      "['ALS.AX', 'AOC.AX', 'AOE.AX', 'APN.AX']: YFPricesMissingError('possibly delisted; no price data found  (1d 2010-06-12 -> 2025-09-02)')\n"
     ]
    },
    {
     "name": "stdout",
     "output_type": "stream",
     "text": [
      "✓ Batch 4: 50 tickers\n"
     ]
    },
    {
     "name": "stderr",
     "output_type": "stream",
     "text": [
      "\n",
      "13 Failed downloads:\n",
      "['ATI.AX', 'ASZ.AX', 'AQA.AX', 'APY.AX', 'ARW.AX', 'AQP.AX', 'ARP.AX']: YFPricesMissingError('possibly delisted; no price data found  (1d 2010-06-12 -> 2025-09-02)')\n",
      "['ASO.AX', 'ARQ.AX', 'ARM.AX', 'ATL.AX', 'AST.AX', 'ARE.AX']: YFTzMissingError('possibly delisted; no timezone found')\n"
     ]
    },
    {
     "name": "stdout",
     "output_type": "stream",
     "text": [
      "✓ Batch 5: 50 tickers\n"
     ]
    },
    {
     "name": "stderr",
     "output_type": "stream",
     "text": [
      "\n",
      "13 Failed downloads:\n",
      "['AVX.AX', 'AVO.AX', 'AXO.AX', 'AXM.AX', 'AWB.AX', 'AYN.AX', 'AXA.AX']: YFPricesMissingError('possibly delisted; no price data found  (1d 2010-06-12 -> 2025-09-02)')\n",
      "['AU8.AX', 'AWC.AX', 'AVZ.AX', 'AWV.AX', 'AYS.AX', 'AUT.AX']: YFTzMissingError('possibly delisted; no timezone found')\n"
     ]
    },
    {
     "name": "stdout",
     "output_type": "stream",
     "text": [
      "✓ Batch 6: 50 tickers\n"
     ]
    },
    {
     "name": "stderr",
     "output_type": "stream",
     "text": [
      "\n",
      "20 Failed downloads:\n",
      "['AZO.AX', 'AZZ.AX', 'AZX.AX']: YFPricesMissingError('possibly delisted; no price data found  (1d 2010-06-12 -> 2025-09-02)')\n",
      "['BEM.AX', 'BAU.AX', 'BAR.AX', 'BAF.AX', 'BDC.AX', 'AZT.AX', 'B2Y.AX', 'BDR.AX', 'AZS.AX', 'BAT.AX', 'BD1.AX', 'AZM.AX', 'BBX.AX', 'AZG.AX', 'BDA.AX', 'BAL.AX', 'AZH.AX']: YFTzMissingError('possibly delisted; no timezone found')\n"
     ]
    },
    {
     "name": "stdout",
     "output_type": "stream",
     "text": [
      "✓ Batch 7: 50 tickers\n"
     ]
    },
    {
     "name": "stderr",
     "output_type": "stream",
     "text": [
      "\n",
      "20 Failed downloads:\n",
      "['BMB.AX', 'BPA.AX', 'BLR.AX', 'BKP.AX', 'BND.AX', 'BOW.AX', 'BKN.AX', 'BIG.AX', 'BOM.AX']: YFPricesMissingError('possibly delisted; no price data found  (1d 2010-06-12 -> 2025-09-02)')\n",
      "['BNO.AX', 'BLD.AX', 'BLT.AX', 'BLK.AX', 'BID.AX', 'BIN.AX', 'BME.AX', 'BGS.AX', 'BLY.AX', 'BKL.AX', 'BLA.AX']: YFTzMissingError('possibly delisted; no timezone found')\n"
     ]
    },
    {
     "name": "stdout",
     "output_type": "stream",
     "text": [
      "✓ Batch 8: 50 tickers\n"
     ]
    },
    {
     "name": "stderr",
     "output_type": "stream",
     "text": [
      "\n",
      "21 Failed downloads:\n",
      "['BRM.AX', 'BTU.AX', 'BRS.AX', 'BVA.AX', 'BTV.AX', 'BTT.AX', 'BPS.AX', 'BYR.AX', 'BRC.AX']: YFPricesMissingError('possibly delisted; no price data found  (1d 2010-06-12 -> 2025-09-02)')\n",
      "['BRV.AX', 'BSR.AX', 'BSE.AX', 'BYE.AX', 'BWX.AX', 'BTH.AX', 'BST.AX', 'BUD.AX', 'BSM.AX', 'BUL.AX', 'BZL.AX', 'BRB.AX']: YFTzMissingError('possibly delisted; no timezone found')\n"
     ]
    },
    {
     "name": "stdout",
     "output_type": "stream",
     "text": [
      "✓ Batch 9: 50 tickers\n"
     ]
    },
    {
     "name": "stderr",
     "output_type": "stream",
     "text": [
      "\n",
      "19 Failed downloads:\n",
      "['CBX.AX', 'CEG.AX', 'CCC.AX', 'CAB.AX', 'CBB.AX', 'CAH.AX', 'CCU.AX']: YFPricesMissingError('possibly delisted; no price data found  (1d 2010-06-12 -> 2025-09-02)')\n",
      "['CAS.AX', 'CE1.AX', 'CDY.AX', 'CAD.AX', 'CAI.AX', 'CAP.AX', 'CDD.AX', 'CBR.AX', 'CCZ.AX', 'CDV.AX', 'CAU.AX', 'CAJ.AX']: YFTzMissingError('possibly delisted; no timezone found')\n"
     ]
    },
    {
     "name": "stdout",
     "output_type": "stream",
     "text": [
      "✓ Batch 10: 50 tickers\n"
     ]
    },
    {
     "name": "stderr",
     "output_type": "stream",
     "text": [
      "\n",
      "25 Failed downloads:\n",
      "['CGH.AX', 'CIR.AX', 'CHP.AX', 'CLL.AX', 'CIG.AX', 'CIL.AX', 'CEY.AX', 'CGG.AX']: YFPricesMissingError('possibly delisted; no price data found  (1d 2010-06-12 -> 2025-09-02)')\n",
      "['CJO.AX', 'CHZ.AX', 'CLT.AX', 'CGA.AX', 'CGL.AX', 'CGC.AX', 'CL1.AX', 'CGB.AX', 'CHK.AX', 'CGM.AX', 'CIM.AX', 'CGN.AX', 'CLI.AX', 'CLQ.AX', 'CLH.AX', 'CFE.AX', 'CLF.AX']: YFTzMissingError('possibly delisted; no timezone found')\n"
     ]
    },
    {
     "name": "stdout",
     "output_type": "stream",
     "text": [
      "✓ Batch 11: 50 tickers\n"
     ]
    },
    {
     "name": "stderr",
     "output_type": "stream",
     "text": [
      "\n",
      "21 Failed downloads:\n",
      "['COZ.AX', 'CMR.AX', 'CNK.AX', 'CPS.AX', 'CPB.AX', 'CO1.AX', 'CMV.AX', 'COU.AX', 'CNA.AX', 'CPL.AX', 'COK.AX']: YFPricesMissingError('possibly delisted; no price data found  (1d 2010-06-12 -> 2025-09-02)')\n",
      "['CPH.AX', 'COE.AX', 'CNW.AX', 'CNL.AX', 'CMA.AX', 'CNX.AX', 'CNR.AX', 'CPZ.AX', 'COO.AX', 'CM8.AX']: YFTzMissingError('possibly delisted; no timezone found')\n"
     ]
    },
    {
     "name": "stdout",
     "output_type": "stream",
     "text": [
      "✓ Batch 12: 50 tickers\n"
     ]
    },
    {
     "name": "stderr",
     "output_type": "stream",
     "text": [
      "\n",
      "18 Failed downloads:\n",
      "['CUA.AX', 'CRE.AX', 'CRZ.AX', 'CRK.AX', 'CR8.AX', 'CQT.AX', 'CWE.AX', 'CRG.AX', 'CRH.AX', 'CVO.AX']: YFPricesMissingError('possibly delisted; no price data found  (1d 2010-06-12 -> 2025-09-02)')\n",
      "['CRW.AX', 'CRO.AX']: YFRateLimitError('Too Many Requests. Rate limited. Try after a while.')\n",
      "['CSJ.AX', 'CSV.AX', 'CVT.AX', 'CSR.AX', 'CV1.AX', 'CTX.AX']: YFTzMissingError('possibly delisted; no timezone found')\n"
     ]
    },
    {
     "name": "stdout",
     "output_type": "stream",
     "text": [
      "✓ Batch 13: 50 tickers\n"
     ]
    },
    {
     "name": "stderr",
     "output_type": "stream",
     "text": [
      "\n",
      "17 Failed downloads:\n",
      "['CXS.AX', 'CYU.AX', 'CXY.AX', 'CXB.AX', 'CXP.AX', 'CZA.AX']: YFPricesMissingError('possibly delisted; no price data found  (1d 2010-06-12 -> 2025-09-02)')\n",
      "['DAU.AX', 'CZL.AX', 'DEG.AX']: YFRateLimitError('Too Many Requests. Rate limited. Try after a while.')\n",
      "['DFM.AX', 'CZI.AX', 'DDD.AX', 'DEX.AX', 'CWN.AX', 'DDH.AX', 'DCN.AX', 'DCG.AX']: YFTzMissingError('possibly delisted; no timezone found')\n"
     ]
    },
    {
     "name": "stdout",
     "output_type": "stream",
     "text": [
      "✓ Batch 14: 50 tickers\n"
     ]
    },
    {
     "name": "stderr",
     "output_type": "stream",
     "text": [
      "\n",
      "21 Failed downloads:\n",
      "['DTE.AX', 'DLS.AX', 'DOM.AX', 'DJS.AX', 'DSH.AX', 'DRK.AX', 'DRG.AX', 'DKO.AX', 'DML.AX', 'DKN.AX']: YFPricesMissingError('possibly delisted; no price data found  (1d 2010-06-12 -> 2025-09-02)')\n",
      "['DOU.AX', 'DRM.AX', 'DSE.AX']: YFRateLimitError('Too Many Requests. Rate limited. Try after a while.')\n",
      "['DLC.AX', 'DLX.AX', 'DTQ.AX', 'DGO.AX', 'DTS.AX', 'DTC.AX', 'DN8.AX', 'DRA.AX']: YFTzMissingError('possibly delisted; no timezone found')\n"
     ]
    },
    {
     "name": "stdout",
     "output_type": "stream",
     "text": [
      "✓ Batch 15: 50 tickers\n"
     ]
    },
    {
     "name": "stderr",
     "output_type": "stream",
     "text": [
      "\n",
      "23 Failed downloads:\n",
      "['DYE.AX', 'EFG.AX', 'EGP.AX', 'ELM.AX']: YFPricesMissingError('possibly delisted; no price data found  (1d 2010-06-12 -> 2025-09-02)')\n",
      "['EGS.AX', 'EGA.AX', 'ELK.AX']: YFRateLimitError('Too Many Requests. Rate limited. Try after a while.')\n",
      "['E33.AX', 'DWS.AX', 'EHE.AX', 'ELO.AX', 'EEG.AX', 'EM1.AX', 'E2E.AX', 'EGN.AX', 'DVN.AX', 'EGO.AX', 'DW8.AX', 'E2M.AX', 'EAS.AX', 'ELX.AX', 'ECX.AX', 'EAR.AX']: YFTzMissingError('possibly delisted; no timezone found')\n"
     ]
    },
    {
     "name": "stdout",
     "output_type": "stream",
     "text": [
      "✓ Batch 16: 50 tickers\n"
     ]
    },
    {
     "name": "stderr",
     "output_type": "stream",
     "text": [
      "\n",
      "19 Failed downloads:\n",
      "['EMX.AX', 'EUG.AX', 'EPG.AX', 'ESG.AX', 'EPT.AX', 'ESN.AX']: YFPricesMissingError('possibly delisted; no price data found  (1d 2010-06-12 -> 2025-09-02)')\n",
      "['ESH.AX', 'EN1.AX', 'ERW.AX']: YFRateLimitError('Too Many Requests. Rate limited. Try after a while.')\n",
      "['ENA.AX', 'EPW.AX', 'ESS.AX', 'ETE.AX', 'ESV.AX', 'EP1.AX', 'ERX.AX', 'EPD.AX', 'EUC.AX', 'ENE.AX']: YFTzMissingError('possibly delisted; no timezone found')\n"
     ]
    },
    {
     "name": "stdout",
     "output_type": "stream",
     "text": [
      "✓ Batch 17: 50 tickers\n"
     ]
    },
    {
     "name": "stderr",
     "output_type": "stream",
     "text": [
      "\n",
      "18 Failed downloads:\n",
      "['EZE.AX', 'FCR.AX', 'FGE.AX', 'FAN.AX', 'EXC.AX', 'EXS.AX', 'EXE.AX']: YFPricesMissingError('possibly delisted; no price data found  (1d 2010-06-12 -> 2025-09-02)')\n",
      "['FGO.AX', 'FEL.AX', 'FDM.AX']: YFRateLimitError('Too Many Requests. Rate limited. Try after a while.')\n",
      "['FEO.AX', 'FFF.AX', 'FGL.AX', 'FFX.AX', 'FFR.AX', 'EX1.AX', 'FFT.AX', 'EXU.AX']: YFTzMissingError('possibly delisted; no timezone found')\n"
     ]
    },
    {
     "name": "stdout",
     "output_type": "stream",
     "text": [
      "✓ Batch 18: 50 tickers\n"
     ]
    },
    {
     "name": "stderr",
     "output_type": "stream",
     "text": [
      "\n",
      "19 Failed downloads:\n",
      "['FRR.AX', 'G8C.AX', 'FSE.AX', 'FTE.AX']: YFPricesMissingError('possibly delisted; no price data found  (1d 2010-06-12 -> 2025-09-02)')\n",
      "['FXL.AX', 'FSF.AX', 'FIJ.AX']: YFRateLimitError('Too Many Requests. Rate limited. Try after a while.')\n",
      "['FRSN.AX', 'FOD.AX', 'FMS.AX', 'FYA.AX', 'FYI.AX', 'FIG.AX', 'FNT.AX', 'FTT.AX', 'FTD.AX', 'FZO.AX', 'FNP.AX', 'FTZ.AX']: YFTzMissingError('possibly delisted; no timezone found')\n"
     ]
    },
    {
     "name": "stdout",
     "output_type": "stream",
     "text": [
      "✓ Batch 19: 50 tickers\n"
     ]
    },
    {
     "name": "stderr",
     "output_type": "stream",
     "text": [
      "\n",
      "23 Failed downloads:\n",
      "['GCS.AX', 'GEG.AX', 'GFF.AX', 'GCL.AX', 'GMM.AX', 'GMI.AX', 'GIR.AX', 'GDY.AX']: YFPricesMissingError('possibly delisted; no price data found  (1d 2010-06-12 -> 2025-09-02)')\n",
      "['GMA.AX', 'GMR.AX', 'GME.AX', 'GDA.AX']: YFRateLimitError('Too Many Requests. Rate limited. Try after a while.')\n",
      "['GGG.AX', 'GEV.AX', 'GFE.AX', 'GBT.AX', 'GBG.AX', 'GFN.AX', 'GLV.AX', 'GCY.AX', 'GCLN.AX', 'GBP.AX', 'GMV.AX']: YFTzMissingError('possibly delisted; no timezone found')\n"
     ]
    },
    {
     "name": "stdout",
     "output_type": "stream",
     "text": [
      "✓ Batch 20: 50 tickers\n"
     ]
    },
    {
     "name": "stderr",
     "output_type": "stream",
     "text": [
      "\n",
      "15 Failed downloads:\n",
      "['GTP.AX', 'GOA.AX', 'GUF.AX', 'GRK.AX', 'GOT.AX', 'GWT.AX', 'GRY.AX', 'GSC.AX']: YFPricesMissingError('possibly delisted; no price data found  (1d 2010-06-12 -> 2025-09-02)')\n",
      "['GXY.AX', 'GPP.AX', 'GXL.AX']: YFRateLimitError('Too Many Requests. Rate limited. Try after a while.')\n",
      "['GRB.AX', 'GUD.AX', 'GSW.AX', 'GNX.AX']: YFTzMissingError('possibly delisted; no timezone found')\n"
     ]
    },
    {
     "name": "stdout",
     "output_type": "stream",
     "text": [
      "✓ Batch 21: 50 tickers\n"
     ]
    },
    {
     "name": "stderr",
     "output_type": "stream",
     "text": [
      "\n",
      "16 Failed downloads:\n",
      "['HIL.AX', 'HSO.AX', 'HT1.AX']: YFRateLimitError('Too Many Requests. Rate limited. Try after a while.')\n",
      "['HEG.AX', 'HUN.AX', 'HOM.AX', 'HSP.AX', 'HFA.AX']: YFPricesMissingError('possibly delisted; no price data found  (1d 2010-06-12 -> 2025-09-02)')\n",
      "['HHI.AX', 'HLSNB.AX', 'HIG.AX', 'HRR.AX', 'HHY.AX', 'HOT.AX', 'HNR.AX', 'HLA.AX']: YFTzMissingError('possibly delisted; no timezone found')\n"
     ]
    },
    {
     "name": "stdout",
     "output_type": "stream",
     "text": [
      "✓ Batch 22: 50 tickers\n"
     ]
    },
    {
     "name": "stderr",
     "output_type": "stream",
     "text": [
      "\n",
      "16 Failed downloads:\n",
      "['IBY.AX', 'IIL.AX', 'IIN.AX', 'IFE.AX', 'IFZ.AX', 'IDG.AX']: YFPricesMissingError('possibly delisted; no price data found  (1d 2010-06-12 -> 2025-09-02)')\n",
      "['IHR.AX', 'IHL.AX']: YFRateLimitError('Too Many Requests. Rate limited. Try after a while.')\n",
      "['HXG.AX', 'IBG.AX', 'ICQ.AX', 'IAP.AX', 'IKW.AX', 'HYM.AX', 'IAU.AX', 'HUO.AX']: YFTzMissingError('possibly delisted; no timezone found')\n"
     ]
    },
    {
     "name": "stdout",
     "output_type": "stream",
     "text": [
      "✓ Batch 23: 50 tickers\n"
     ]
    },
    {
     "name": "stderr",
     "output_type": "stream",
     "text": [
      "\n",
      "20 Failed downloads:\n",
      "['IQE.AX', 'IRN.AX', 'IOH.AX', 'ISN.AX', 'ISF.AX', 'IPP.AX']: YFPricesMissingError('possibly delisted; no price data found  (1d 2010-06-12 -> 2025-09-02)')\n",
      "['ISX.AX', 'IOT.AX', 'INP.AX']: YFRateLimitError('Too Many Requests. Rate limited. Try after a while.')\n",
      "['IP1.AX', 'IOU.AX', 'IVO.AX', 'ISU.AX', 'IVC.AX', 'IPL.AX', 'ITG.AX', 'ISD.AX', 'INL.AX', 'IMS.AX', 'IMF.AX']: YFTzMissingError('possibly delisted; no timezone found')\n"
     ]
    },
    {
     "name": "stdout",
     "output_type": "stream",
     "text": [
      "✓ Batch 24: 50 tickers\n"
     ]
    },
    {
     "name": "stderr",
     "output_type": "stream",
     "text": [
      "\n",
      "16 Failed downloads:\n",
      "['KIN.AX', 'KIL.AX', 'KDR.AX']: YFRateLimitError('Too Many Requests. Rate limited. Try after a while.')\n",
      "['KFE.AX', 'JRL.AX', 'JHL.AX', 'KAS.AX', 'IXU.AX', 'JDR.AX', 'JXT.AX', 'JHC.AX', 'JRV.AX', 'KIS.AX', 'KGM.AX']: YFTzMissingError('possibly delisted; no timezone found')\n",
      "['JAG.AX', 'JML.AX']: YFPricesMissingError('possibly delisted; no price data found  (1d 2010-06-12 -> 2025-09-02)')\n"
     ]
    },
    {
     "name": "stdout",
     "output_type": "stream",
     "text": [
      "✓ Batch 25: 50 tickers\n"
     ]
    },
    {
     "name": "stderr",
     "output_type": "stream",
     "text": [
      "\n",
      "17 Failed downloads:\n",
      "['LEI.AX', 'LDW.AX', 'KSO.AX', 'KZL.AX', 'KRC.AX']: YFPricesMissingError('possibly delisted; no price data found  (1d 2010-06-12 -> 2025-09-02)')\n",
      "['LBT.AX', 'LBY.AX', 'LCM.AX']: YFRateLimitError('Too Many Requests. Rate limited. Try after a while.')\n",
      "['KTD.AX', 'KYK.AX', 'LER.AX', 'LCT.AX', 'LCK.AX', 'KNL.AX', 'LAA.AX', 'KZA.AX', 'KWR.AX']: YFTzMissingError('possibly delisted; no timezone found')\n"
     ]
    },
    {
     "name": "stdout",
     "output_type": "stream",
     "text": [
      "✓ Batch 26: 50 tickers\n"
     ]
    },
    {
     "name": "stderr",
     "output_type": "stream",
     "text": [
      "\n",
      "10 Failed downloads:\n",
      "['LFR.AX', 'LMR.AX', 'LRC.AX']: YFPricesMissingError('possibly delisted; no price data found  (1d 2010-06-12 -> 2025-09-02)')\n",
      "['LRL.AX', 'LNK.AX', 'LLI.AX']: YFRateLimitError('Too Many Requests. Rate limited. Try after a while.')\n",
      "['LPI.AX', 'LRS.AX', 'LON.AX', 'LNG.AX']: YFTzMissingError('possibly delisted; no timezone found')\n"
     ]
    },
    {
     "name": "stdout",
     "output_type": "stream",
     "text": [
      "✓ Batch 27: 50 tickers\n"
     ]
    },
    {
     "name": "stderr",
     "output_type": "stream",
     "text": [
      "\n",
      "18 Failed downloads:\n",
      "['MBE.AX', 'LWP.AX', 'MBN.AX', 'MAK.AX', 'MCC.AX', 'MCS.AX', 'MCU.AX', 'MAE.AX']: YFPricesMissingError('possibly delisted; no price data found  (1d 2010-06-12 -> 2025-09-02)')\n",
      "['MEB.AX', 'ME1.AX']: YFRateLimitError('Too Many Requests. Rate limited. Try after a while.')\n",
      "['MAI.AX', 'LV1.AX', 'MEA.AX', 'MCR.AX', 'LYN.AX', 'MCL.AX', 'MCT.AX', 'LVH.AX']: YFTzMissingError('possibly delisted; no timezone found')\n"
     ]
    },
    {
     "name": "stdout",
     "output_type": "stream",
     "text": [
      "✓ Batch 28: 50 tickers\n"
     ]
    },
    {
     "name": "stderr",
     "output_type": "stream",
     "text": [
      "\n",
      "19 Failed downloads:\n",
      "['MLI.AX', 'MIZ.AX', 'MLB.AX', 'MGO.AX', 'MEO.AX', 'MKB.AX']: YFPricesMissingError('possibly delisted; no price data found  (1d 2010-06-12 -> 2025-09-02)')\n",
      "['MEY.AX', 'MLT.AX']: YFRateLimitError('Too Many Requests. Rate limited. Try after a while.')\n",
      "['MEP.AX', 'MGC.AX', 'MGG.AX', 'MKG.AX', 'MIL.AX', 'MHH.AX', 'MMJ.AX', 'MLL.AX', 'MGV.AX', 'MLM.AX', 'MLD.AX']: YFTzMissingError('possibly delisted; no timezone found')\n"
     ]
    },
    {
     "name": "stdout",
     "output_type": "stream",
     "text": [
      "✓ Batch 29: 50 tickers\n"
     ]
    },
    {
     "name": "stderr",
     "output_type": "stream",
     "text": [
      "\n",
      "27 Failed downloads:\n",
      "['MSF.AX', 'MNM.AX', 'MRU.AX', 'MOL.AX', 'MMX.AX', 'MOO.AX', 'MNQ.AX', 'MQA.AX', 'MMW.AX', 'MOS.AX', 'MOX.AX']: YFPricesMissingError('possibly delisted; no price data found  (1d 2010-06-12 -> 2025-09-02)')\n",
      "['MOQ.AX', 'MRM.AX', 'MNF.AX']: YFRateLimitError('Too Many Requests. Rate limited. Try after a while.')\n",
      "['MNY.AX', 'MSM.AX', 'MSR.AX', 'MNW.AX', 'MOB.AX', 'MSL.AX', 'MOY.AX', 'MOD.AX', 'MRP.AX', 'MOC.AX', 'MOE.AX', 'MRG.AX', 'MR1.AX']: YFTzMissingError('possibly delisted; no timezone found')\n"
     ]
    },
    {
     "name": "stdout",
     "output_type": "stream",
     "text": [
      "✓ Batch 30: 50 tickers\n"
     ]
    },
    {
     "name": "stderr",
     "output_type": "stream",
     "text": [
      "\n",
      "23 Failed downloads:\n",
      "['MXC.AX', 'MTR.AX']: YFRateLimitError('Too Many Requests. Rate limited. Try after a while.')\n",
      "['MZI.AX', 'MYO.AX', 'MZZ.AX', 'MXR.AX', 'MWR.AX', 'NBL.AX', 'NBI.AX', 'NCZ.AX', 'NCM.AX', 'MYD.AX', 'MYQ.AX', 'MYL.AX', 'MWY.AX']: YFTzMissingError('possibly delisted; no timezone found')\n",
      "['NAD.AX', 'MYT.AX', 'NBS.AX', 'MTU.AX', 'MUS.AX', 'MTE.AX', 'MUX.AX', 'MUM.AX']: YFPricesMissingError('possibly delisted; no price data found  (1d 2010-06-12 -> 2025-09-02)')\n"
     ]
    },
    {
     "name": "stdout",
     "output_type": "stream",
     "text": [
      "✓ Batch 31: 50 tickers\n"
     ]
    },
    {
     "name": "stderr",
     "output_type": "stream",
     "text": [
      "\n",
      "18 Failed downloads:\n",
      "['NQM.AX', 'NGF.AX', 'NRL.AX', 'NFK.AX', 'NRT.AX', 'NPX.AX', 'NEN.AX', 'NFE.AX', 'NSL.AX']: YFPricesMissingError('possibly delisted; no price data found  (1d 2010-06-12 -> 2025-09-02)')\n",
      "['NSE.AX', 'NKL.AX', 'NML.AX']: YFRateLimitError('Too Many Requests. Rate limited. Try after a while.')\n",
      "['NEW.AX', 'NHL.AX', 'NEA.AX', 'NTC.AX', 'NMS.AX', 'NOC.AX']: YFTzMissingError('possibly delisted; no timezone found')\n"
     ]
    },
    {
     "name": "stdout",
     "output_type": "stream",
     "text": [
      "✓ Batch 32: 50 tickers\n"
     ]
    },
    {
     "name": "stderr",
     "output_type": "stream",
     "text": [
      "\n",
      "17 Failed downloads:\n",
      "['NXR.AX', 'NWZ.AX', 'OBS.AX', 'NYO.AX', 'NWT.AX']: YFPricesMissingError('possibly delisted; no price data found  (1d 2010-06-12 -> 2025-09-02)')\n",
      "['NWE.AX', 'OEX.AX', 'NUS.AX']: YFRateLimitError('Too Many Requests. Rate limited. Try after a while.')\n",
      "['NZO.AX', 'OAR.AX', 'OBJ.AX', 'OEG.AX', 'NTO.AX', 'NVT.AX', 'OCP.AX', 'NVL.AX', 'NZC.AX']: YFTzMissingError('possibly delisted; no timezone found')\n"
     ]
    },
    {
     "name": "stdout",
     "output_type": "stream",
     "text": [
      "✓ Batch 33: 50 tickers\n"
     ]
    },
    {
     "name": "stderr",
     "output_type": "stream",
     "text": [
      "\n",
      "22 Failed downloads:\n",
      "['OST.AX', 'OMT.AX', 'OMI.AX', 'OKN.AX', 'OZB.AX', 'OTC.AX']: YFPricesMissingError('possibly delisted; no price data found  (1d 2010-06-12 -> 2025-09-02)')\n",
      "['OVN.AX', 'ONT.AX', 'PAA.AX']: YFRateLimitError('Too Many Requests. Rate limited. Try after a while.')\n",
      "['OPY.AX', 'OMN.AX', 'OZL.AX', 'ORR.AX', 'OKR.AX', 'PAL.AX', 'OKU.AX', 'OGH.AX', 'OSH.AX', 'OPA.AX', 'OVH.AX', 'OTW.AX', 'OPC.AX']: YFTzMissingError('possibly delisted; no timezone found')\n"
     ]
    },
    {
     "name": "stdout",
     "output_type": "stream",
     "text": [
      "✓ Batch 34: 50 tickers\n"
     ]
    },
    {
     "name": "stderr",
     "output_type": "stream",
     "text": [
      "\n",
      "19 Failed downloads:\n",
      "['PCP.AX', 'PBD.AX', 'PEP.AX', 'PDY.AX', 'PBG.AX', 'PHG.AX', 'PFL.AX']: YFPricesMissingError('possibly delisted; no price data found  (1d 2010-06-12 -> 2025-09-02)')\n",
      "['PF1.AX', 'PGG.AX']: YFRateLimitError('Too Many Requests. Rate limited. Try after a while.')\n",
      "['PGI.AX', 'PBT.AX', 'PGX.AX', 'PG1.AX', 'PGR.AX', 'PDZ.AX', 'PEA.AX', 'PGL.AX', 'PBP.AX', 'PDL.AX']: YFTzMissingError('possibly delisted; no timezone found')\n"
     ]
    },
    {
     "name": "stdout",
     "output_type": "stream",
     "text": [
      "✓ Batch 35: 50 tickers\n"
     ]
    },
    {
     "name": "stderr",
     "output_type": "stream",
     "text": [
      "\n",
      "14 Failed downloads:\n",
      "['PHK.AX', 'PLV.AX', 'PMP.AX', 'PRA.AX', 'POK.AX', 'PPP.AX', 'PNA.AX', 'PIR.AX', 'PPX.AX']: YFPricesMissingError('possibly delisted; no price data found  (1d 2010-06-12 -> 2025-09-02)')\n",
      "['POH.AX', 'PIO.AX']: YFRateLimitError('Too Many Requests. Rate limited. Try after a while.')\n",
      "['PMY.AX', 'PNL.AX', 'POS.AX']: YFTzMissingError('possibly delisted; no timezone found')\n"
     ]
    },
    {
     "name": "stdout",
     "output_type": "stream",
     "text": [
      "✓ Batch 36: 50 tickers\n"
     ]
    },
    {
     "name": "stderr",
     "output_type": "stream",
     "text": [
      "\n",
      "16 Failed downloads:\n",
      "['PRR.AX', 'PSP.AX', 'PXG.AX', 'PSY.AX', 'PRY.AX', 'PRC.AX']: YFPricesMissingError('possibly delisted; no price data found  (1d 2010-06-12 -> 2025-09-02)')\n",
      "['PTB.AX', 'PWL.AX']: YFRateLimitError('Too Many Requests. Rate limited. Try after a while.')\n",
      "['PSI.AX', 'PVD.AX', 'PXS.AX', 'PTG.AX', 'PRT.AX', 'QHL.AX', 'PYR.AX', 'PSA.AX']: YFTzMissingError('possibly delisted; no timezone found')\n"
     ]
    },
    {
     "name": "stdout",
     "output_type": "stream",
     "text": [
      "✓ Batch 37: 50 tickers\n"
     ]
    },
    {
     "name": "stderr",
     "output_type": "stream",
     "text": [
      "\n",
      "17 Failed downloads:\n",
      "['RDR.AX', 'RCG.AX', 'QMN.AX']: YFPricesMissingError('possibly delisted; no price data found  (1d 2010-06-12 -> 2025-09-02)')\n",
      "['RCW.AX', 'QMS.AX', 'RE1.AX', 'RAP.AX']: YFRateLimitError('Too Many Requests. Rate limited. Try after a while.')\n",
      "['RES.AX', 'RDH.AX', 'REF.AX', 'RED.AX', 'RDT.AX', 'QRN.AX', 'RBL.AX', 'QIP.AX', 'RDF.AX', 'RCP.AX']: YFTzMissingError('possibly delisted; no timezone found')\n"
     ]
    },
    {
     "name": "stdout",
     "output_type": "stream",
     "text": [
      "✓ Batch 38: 50 tickers\n"
     ]
    },
    {
     "name": "stderr",
     "output_type": "stream",
     "text": [
      "\n",
      "20 Failed downloads:\n",
      "['RFE.AX', 'ROY.AX', 'RFL.AX', 'RIV.AX', 'ROL.AX', 'RNS.AX', 'RNI.AX', 'RHG.AX', 'RPX.AX', 'RGX.AX', 'RIA.AX']: YFPricesMissingError('possibly delisted; no price data found  (1d 2010-06-12 -> 2025-09-02)')\n",
      "['RHP.AX', 'RNE.AX']: YFRateLimitError('Too Many Requests. Rate limited. Try after a while.')\n",
      "['RFN.AX', 'RQL.AX', 'RGI.AX', 'RMP.AX', 'RLE.AX', 'RHL.AX', 'ROS.AX']: YFTzMissingError('possibly delisted; no timezone found')\n"
     ]
    },
    {
     "name": "stdout",
     "output_type": "stream",
     "text": [
      "✓ Batch 39: 50 tickers\n"
     ]
    },
    {
     "name": "stderr",
     "output_type": "stream",
     "text": [
      "\n",
      "21 Failed downloads:\n",
      "['SBL.AX', 'SDM.AX', 'RWH.AX', 'SEV.AX', 'RUM.AX', 'SAI.AX']: YFPricesMissingError('possibly delisted; no price data found  (1d 2010-06-12 -> 2025-09-02)')\n",
      "['RRS.AX', 'SES.AX', 'RVR.AX']: YFRateLimitError('Too Many Requests. Rate limited. Try after a while.')\n",
      "['SCL.AX', 'SAS.AX', 'SDG.AX', 'SAR.AX', 'RXP.AX', 'SF1.AX', 'RXM.AX', 'RSH.AX', 'SDA.AX', 'SEA.AX', 'SE1.AX', 'SCU.AX']: YFTzMissingError('possibly delisted; no timezone found')\n"
     ]
    },
    {
     "name": "stdout",
     "output_type": "stream",
     "text": [
      "✓ Batch 40: 50 tickers\n"
     ]
    },
    {
     "name": "stderr",
     "output_type": "stream",
     "text": [
      "\n",
      "15 Failed downloads:\n",
      "['SIR.AX', 'SFH.AX', 'SKE.AX', 'SFZ.AX', 'SKB.AX', 'SGN.AX', 'SLV.AX', 'SFW.AX', 'SIP.AX']: YFPricesMissingError('possibly delisted; no price data found  (1d 2010-06-12 -> 2025-09-02)')\n",
      "['SIH.AX', 'SLK.AX']: YFRateLimitError('Too Many Requests. Rate limited. Try after a while.')\n",
      "['SKF.AX', 'SLR.AX', 'SI6.AX', 'SGF.AX']: YFTzMissingError('possibly delisted; no timezone found')\n"
     ]
    },
    {
     "name": "stdout",
     "output_type": "stream",
     "text": [
      "✓ Batch 41: 50 tickers\n"
     ]
    },
    {
     "name": "stderr",
     "output_type": "stream",
     "text": [
      "\n",
      "13 Failed downloads:\n",
      "['SRQ.AX', 'SPH.AX', 'SPI.AX', 'SRM.AX', 'SOO.AX', 'SNY.AX']: YFPricesMissingError('possibly delisted; no price data found  (1d 2010-06-12 -> 2025-09-02)')\n",
      "['SO4.AX', 'SPM.AX', 'SPO.AX']: YFRateLimitError('Too Many Requests. Rate limited. Try after a while.')\n",
      "['SRS.AX', 'SRX.AX', 'SOV.AX', 'SPT.AX']: YFTzMissingError('possibly delisted; no timezone found')\n"
     ]
    },
    {
     "name": "stdout",
     "output_type": "stream",
     "text": [
      "✓ Batch 42: 50 tickers\n"
     ]
    },
    {
     "name": "stderr",
     "output_type": "stream",
     "text": [
      "\n",
      "16 Failed downloads:\n",
      "['SUV.AX', 'SYM.AX', 'STC.AX']: YFRateLimitError('Too Many Requests. Rate limited. Try after a while.')\n",
      "['SWF.AX', 'SUR.AX', 'TAP.AX', 'SWK.AX', 'SVH.AX', 'SYT.AX', 'SVW.AX', 'SXG.AX', 'SUD.AX', 'SXY.AX']: YFTzMissingError('possibly delisted; no timezone found')\n",
      "['STB.AX', 'SWL.AX', 'SWW.AX']: YFPricesMissingError('possibly delisted; no price data found  (1d 2010-06-12 -> 2025-09-02)')\n"
     ]
    },
    {
     "name": "stdout",
     "output_type": "stream",
     "text": [
      "✓ Batch 43: 50 tickers\n"
     ]
    },
    {
     "name": "stderr",
     "output_type": "stream",
     "text": [
      "\n",
      "20 Failed downloads:\n",
      "['TIS.AX', 'TCH.AX', 'TIM.AX', 'TEN.AX', 'TFC.AX', 'TEL.AX', 'TCM.AX', 'TIX.AX', 'TFG.AX']: YFPricesMissingError('possibly delisted; no price data found  (1d 2010-06-12 -> 2025-09-02)')\n",
      "['THC.AX', 'TDI.AX', 'TGA.AX']: YFRateLimitError('Too Many Requests. Rate limited. Try after a while.')\n",
      "['TMT.AX', 'TMR.AX', 'TBH.AX', 'TME.AX', 'TGR.AX', 'THX.AX', 'TGG.AX', 'TIE.AX']: YFTzMissingError('possibly delisted; no timezone found')\n"
     ]
    },
    {
     "name": "stdout",
     "output_type": "stream",
     "text": [
      "✓ Batch 44: 50 tickers\n"
     ]
    },
    {
     "name": "stderr",
     "output_type": "stream",
     "text": [
      "\n",
      "28 Failed downloads:\n",
      "['TTY.AX', 'TPN.AX', 'TSM.AX', 'TPT.AX', 'TPI.AX', 'TSE.AX', 'TSV.AX', 'TTW.AX', 'TOF.AX', 'TOL.AX', 'TTN.AX', 'TRG.AX', 'TTS.AX', 'TRO.AX']: YFPricesMissingError('possibly delisted; no price data found  (1d 2010-06-12 -> 2025-09-02)')\n",
      "['TSN.AX', 'TRS.AX', 'TNT.AX']: YFRateLimitError('Too Many Requests. Rate limited. Try after a while.')\n",
      "['TRT.AX', 'TNO.AX', 'TPD.AX', 'TNG.AX', 'TNR.AX', 'TNK.AX', 'TSC.AX', 'TPM.AX', 'TPE.AX', 'TRY.AX', 'TTB.AX']: YFTzMissingError('possibly delisted; no timezone found')\n"
     ]
    },
    {
     "name": "stdout",
     "output_type": "stream",
     "text": [
      "✓ Batch 45: 50 tickers\n"
     ]
    },
    {
     "name": "stderr",
     "output_type": "stream",
     "text": [
      "\n",
      "21 Failed downloads:\n",
      "['VBA.AX', 'UGL.AX', 'VET.AX', 'UXA.AX', 'VEI.AX', 'UNX.AX', 'UXC.AX', 'VGH.AX', 'UML.AX', 'VED.AX']: YFPricesMissingError('possibly delisted; no price data found  (1d 2010-06-12 -> 2025-09-02)')\n",
      "['TYM.AX', 'VG8.AX', 'VGI.AX']: YFRateLimitError('Too Many Requests. Rate limited. Try after a while.')\n",
      "['VAH.AX', 'TV2.AX', 'VAL.AX', 'VAN.AX', 'UMG.AX', 'VHT.AX', 'UWL.AX', 'VEC.AX']: YFTzMissingError('possibly delisted; no timezone found')\n"
     ]
    },
    {
     "name": "stdout",
     "output_type": "stream",
     "text": [
      "✓ Batch 46: 50 tickers\n"
     ]
    },
    {
     "name": "stderr",
     "output_type": "stream",
     "text": [
      "\n",
      "19 Failed downloads:\n",
      "['WAN.AX', 'VRE.AX', 'VWM.AX', 'VPE.AX']: YFPricesMissingError('possibly delisted; no price data found  (1d 2010-06-12 -> 2025-09-02)')\n",
      "['VOC.AX', 'VTG.AX', 'VLT.AX']: YFRateLimitError('Too Many Requests. Rate limited. Try after a while.')\n",
      "['VTH.AX', 'VMY.AX', 'VMX.AX', 'VRT.AX', 'VLW.AX', 'VIC.AX', 'VXR.AX', 'VOL.AX', 'VIRDA.AX', 'VPC.AX', 'VMS.AX', 'VOR.AX']: YFTzMissingError('possibly delisted; no timezone found')\n"
     ]
    },
    {
     "name": "stdout",
     "output_type": "stream",
     "text": [
      "✓ Batch 47: 50 tickers\n"
     ]
    },
    {
     "name": "stderr",
     "output_type": "stream",
     "text": [
      "\n",
      "22 Failed downloads:\n",
      "['WDR.AX', 'WCB.AX', 'WFM.AX', 'WBB.AX', 'WHN.AX', 'WMN.AX', 'WAS.AX', 'WHE.AX', 'WHS.AX', 'WHG.AX', 'WCL.AX', 'WCP.AX']: YFPricesMissingError('possibly delisted; no price data found  (1d 2010-06-12 -> 2025-09-02)')\n",
      "['WJA.AX', 'WGO.AX', 'WLF.AX']: YFRateLimitError('Too Many Requests. Rate limited. Try after a while.')\n",
      "['WCG.AX', 'WND.AX', 'WHA.AX', 'WBA.AX', 'WLL.AX', 'WMC.AX', 'WGF.AX']: YFTzMissingError('possibly delisted; no timezone found')\n"
     ]
    },
    {
     "name": "stdout",
     "output_type": "stream",
     "text": [
      "✓ Batch 48: 50 tickers\n"
     ]
    },
    {
     "name": "stderr",
     "output_type": "stream",
     "text": [
      "\n",
      "21 Failed downloads:\n",
      "['WTF.AX', 'XXL.AX', 'YTC.AX', 'WVL.AX']: YFPricesMissingError('possibly delisted; no price data found  (1d 2010-06-12 -> 2025-09-02)')\n",
      "['WSP.AX', 'WNI.AX', 'XIP.AX']: YFRateLimitError('Too Many Requests. Rate limited. Try after a while.')\n",
      "['YBR.AX', 'WSA.AX', 'Z1P.AX', 'ZEL.AX', 'WPL.AX', 'XTE.AX', 'Z2U.AX', 'XTD.AX', 'ZEN.AX', 'WRM.AX', 'XPE.AX', 'YFZ.AX', 'WPP.AX', 'WPG.AX']: YFTzMissingError('possibly delisted; no timezone found')\n"
     ]
    },
    {
     "name": "stdout",
     "output_type": "stream",
     "text": [
      "✓ Batch 49: 50 tickers\n"
     ]
    },
    {
     "name": "stderr",
     "output_type": "stream",
     "text": [
      "\n",
      "4 Failed downloads:\n",
      "['ZML.AX', 'ZYL.AX']: YFPricesMissingError('possibly delisted; no price data found  (1d 2010-06-12 -> 2025-09-02)')\n",
      "['ZNZ.AX']: YFRateLimitError('Too Many Requests. Rate limited. Try after a while.')\n",
      "['ZER.AX']: YFTzMissingError('possibly delisted; no timezone found')\n"
     ]
    },
    {
     "name": "stdout",
     "output_type": "stream",
     "text": [
      "✓ Batch 50: 10 tickers\n",
      "Final cleaned dataset:\n",
      "Prices on Date: 226643 / 226643\n",
      "Prices on ReleaseDate: 226643 / 226643\n",
      "Free float present: 226643 / 226643\n",
      ">100% after fix: 553\n"
     ]
    },
    {
     "data": {
      "text/html": [
       "<div>\n",
       "<style scoped>\n",
       "    .dataframe tbody tr th:only-of-type {\n",
       "        vertical-align: middle;\n",
       "    }\n",
       "\n",
       "    .dataframe tbody tr th {\n",
       "        vertical-align: top;\n",
       "    }\n",
       "\n",
       "    .dataframe thead th {\n",
       "        text-align: right;\n",
       "    }\n",
       "</style>\n",
       "<table border=\"1\" class=\"dataframe\">\n",
       "  <thead>\n",
       "    <tr style=\"text-align: right;\">\n",
       "      <th></th>\n",
       "      <th>Date</th>\n",
       "      <th>ReleaseDate</th>\n",
       "      <th>Ticker</th>\n",
       "      <th>Company</th>\n",
       "      <th>Short Positions</th>\n",
       "      <th>Total Volume</th>\n",
       "      <th>Shorts (%)</th>\n",
       "      <th>Date Free Float</th>\n",
       "      <th>Shorts (Free Float %)</th>\n",
       "      <th>Date Share Price</th>\n",
       "      <th>Release Date Share Price</th>\n",
       "    </tr>\n",
       "  </thead>\n",
       "  <tbody>\n",
       "    <tr>\n",
       "      <th>70</th>\n",
       "      <td>2010-06-14</td>\n",
       "      <td>2010-06-18</td>\n",
       "      <td>CDU</td>\n",
       "      <td>CUDECO LIMITED ORDINARY</td>\n",
       "      <td>753797</td>\n",
       "      <td>137285632</td>\n",
       "      <td>0.56</td>\n",
       "      <td>3.942780e+08</td>\n",
       "      <td>0.191184</td>\n",
       "      <td>3.769556</td>\n",
       "      <td>3.999304</td>\n",
       "    </tr>\n",
       "    <tr>\n",
       "      <th>199</th>\n",
       "      <td>2010-06-14</td>\n",
       "      <td>2010-06-18</td>\n",
       "      <td>MPO</td>\n",
       "      <td>MOLOPO ENERGY LTD ORDINARY</td>\n",
       "      <td>11281</td>\n",
       "      <td>250665548</td>\n",
       "      <td>0.00</td>\n",
       "      <td>2.490410e+08</td>\n",
       "      <td>0.004530</td>\n",
       "      <td>1.055000</td>\n",
       "      <td>1.140000</td>\n",
       "    </tr>\n",
       "    <tr>\n",
       "      <th>268</th>\n",
       "      <td>2010-06-14</td>\n",
       "      <td>2010-06-18</td>\n",
       "      <td>SDL</td>\n",
       "      <td>SUNDANCE RESOURCES ORDINARY</td>\n",
       "      <td>18973425</td>\n",
       "      <td>2709995932</td>\n",
       "      <td>0.69</td>\n",
       "      <td>9.450020e+09</td>\n",
       "      <td>0.200777</td>\n",
       "      <td>0.130000</td>\n",
       "      <td>0.130000</td>\n",
       "    </tr>\n",
       "    <tr>\n",
       "      <th>335</th>\n",
       "      <td>2010-06-21</td>\n",
       "      <td>2010-06-25</td>\n",
       "      <td>AAC</td>\n",
       "      <td>AUSTRALIAN AGRICULT. ORDINARY</td>\n",
       "      <td>5383914</td>\n",
       "      <td>264264459</td>\n",
       "      <td>2.04</td>\n",
       "      <td>1.358455e+08</td>\n",
       "      <td>3.963261</td>\n",
       "      <td>1.429103</td>\n",
       "      <td>1.410299</td>\n",
       "    </tr>\n",
       "    <tr>\n",
       "      <th>339</th>\n",
       "      <td>2010-06-21</td>\n",
       "      <td>2010-06-25</td>\n",
       "      <td>ACR</td>\n",
       "      <td>ACRUX LIMITED ORDINARY</td>\n",
       "      <td>123421</td>\n",
       "      <td>160556216</td>\n",
       "      <td>0.07</td>\n",
       "      <td>3.357520e+08</td>\n",
       "      <td>0.036760</td>\n",
       "      <td>1.875000</td>\n",
       "      <td>1.830000</td>\n",
       "    </tr>\n",
       "    <tr>\n",
       "      <th>340</th>\n",
       "      <td>2010-06-21</td>\n",
       "      <td>2010-06-25</td>\n",
       "      <td>ADD</td>\n",
       "      <td>ADAVALE RESOURCE LTD ORDINARY</td>\n",
       "      <td>138644</td>\n",
       "      <td>183593979</td>\n",
       "      <td>0.08</td>\n",
       "      <td>1.478351e+08</td>\n",
       "      <td>0.093783</td>\n",
       "      <td>11.270823</td>\n",
       "      <td>11.997972</td>\n",
       "    </tr>\n",
       "    <tr>\n",
       "      <th>349</th>\n",
       "      <td>2010-06-21</td>\n",
       "      <td>2010-06-25</td>\n",
       "      <td>AIA</td>\n",
       "      <td>AUCKLAND INTERNATION ORDINARY</td>\n",
       "      <td>54</td>\n",
       "      <td>1310392831</td>\n",
       "      <td>0.00</td>\n",
       "      <td>1.687687e+09</td>\n",
       "      <td>0.000003</td>\n",
       "      <td>1.738888</td>\n",
       "      <td>1.716666</td>\n",
       "    </tr>\n",
       "    <tr>\n",
       "      <th>350</th>\n",
       "      <td>2010-06-21</td>\n",
       "      <td>2010-06-25</td>\n",
       "      <td>AIQ</td>\n",
       "      <td>ALTERNATIVE INVEST ORDINARY UNITS</td>\n",
       "      <td>15000</td>\n",
       "      <td>130692470</td>\n",
       "      <td>0.01</td>\n",
       "      <td>1.893081e+07</td>\n",
       "      <td>0.079236</td>\n",
       "      <td>1.030000</td>\n",
       "      <td>1.035000</td>\n",
       "    </tr>\n",
       "    <tr>\n",
       "      <th>352</th>\n",
       "      <td>2010-06-21</td>\n",
       "      <td>2010-06-25</td>\n",
       "      <td>AJL</td>\n",
       "      <td>AJ LUCAS GROUP ORDINARY</td>\n",
       "      <td>423513</td>\n",
       "      <td>65276374</td>\n",
       "      <td>0.65</td>\n",
       "      <td>1.216613e+09</td>\n",
       "      <td>0.034811</td>\n",
       "      <td>1.739718</td>\n",
       "      <td>1.567127</td>\n",
       "    </tr>\n",
       "    <tr>\n",
       "      <th>353</th>\n",
       "      <td>2010-06-21</td>\n",
       "      <td>2010-06-25</td>\n",
       "      <td>ALL</td>\n",
       "      <td>ARISTOCRAT LEISURE ORDINARY</td>\n",
       "      <td>19286065</td>\n",
       "      <td>533379348</td>\n",
       "      <td>3.61</td>\n",
       "      <td>5.535938e+08</td>\n",
       "      <td>3.483794</td>\n",
       "      <td>3.944195</td>\n",
       "      <td>3.715113</td>\n",
       "    </tr>\n",
       "    <tr>\n",
       "      <th>355</th>\n",
       "      <td>2010-06-21</td>\n",
       "      <td>2010-06-25</td>\n",
       "      <td>AMC</td>\n",
       "      <td>AMCOR LIMITED ORDINARY</td>\n",
       "      <td>10970452</td>\n",
       "      <td>1221353174</td>\n",
       "      <td>0.87</td>\n",
       "      <td>2.304860e+09</td>\n",
       "      <td>0.475970</td>\n",
       "      <td>5.899095</td>\n",
       "      <td>5.809307</td>\n",
       "    </tr>\n",
       "    <tr>\n",
       "      <th>356</th>\n",
       "      <td>2010-06-21</td>\n",
       "      <td>2010-06-25</td>\n",
       "      <td>AMP</td>\n",
       "      <td>AMP LIMITED ORDINARY</td>\n",
       "      <td>25656196</td>\n",
       "      <td>2071925423</td>\n",
       "      <td>1.21</td>\n",
       "      <td>2.504017e+09</td>\n",
       "      <td>1.024601</td>\n",
       "      <td>5.650000</td>\n",
       "      <td>5.430000</td>\n",
       "    </tr>\n",
       "  </tbody>\n",
       "</table>\n",
       "</div>"
      ],
      "text/plain": [
       "          Date ReleaseDate Ticker                            Company  \\\n",
       "70  2010-06-14  2010-06-18    CDU            CUDECO LIMITED ORDINARY   \n",
       "199 2010-06-14  2010-06-18    MPO         MOLOPO ENERGY LTD ORDINARY   \n",
       "268 2010-06-14  2010-06-18    SDL        SUNDANCE RESOURCES ORDINARY   \n",
       "335 2010-06-21  2010-06-25    AAC      AUSTRALIAN AGRICULT. ORDINARY   \n",
       "339 2010-06-21  2010-06-25    ACR             ACRUX LIMITED ORDINARY   \n",
       "340 2010-06-21  2010-06-25    ADD      ADAVALE RESOURCE LTD ORDINARY   \n",
       "349 2010-06-21  2010-06-25    AIA      AUCKLAND INTERNATION ORDINARY   \n",
       "350 2010-06-21  2010-06-25    AIQ  ALTERNATIVE INVEST ORDINARY UNITS   \n",
       "352 2010-06-21  2010-06-25    AJL            AJ LUCAS GROUP ORDINARY   \n",
       "353 2010-06-21  2010-06-25    ALL        ARISTOCRAT LEISURE ORDINARY   \n",
       "355 2010-06-21  2010-06-25    AMC             AMCOR LIMITED ORDINARY   \n",
       "356 2010-06-21  2010-06-25    AMP               AMP LIMITED ORDINARY   \n",
       "\n",
       "     Short Positions  Total Volume  Shorts (%)  Date Free Float  \\\n",
       "70            753797     137285632        0.56     3.942780e+08   \n",
       "199            11281     250665548        0.00     2.490410e+08   \n",
       "268         18973425    2709995932        0.69     9.450020e+09   \n",
       "335          5383914     264264459        2.04     1.358455e+08   \n",
       "339           123421     160556216        0.07     3.357520e+08   \n",
       "340           138644     183593979        0.08     1.478351e+08   \n",
       "349               54    1310392831        0.00     1.687687e+09   \n",
       "350            15000     130692470        0.01     1.893081e+07   \n",
       "352           423513      65276374        0.65     1.216613e+09   \n",
       "353         19286065     533379348        3.61     5.535938e+08   \n",
       "355         10970452    1221353174        0.87     2.304860e+09   \n",
       "356         25656196    2071925423        1.21     2.504017e+09   \n",
       "\n",
       "     Shorts (Free Float %)  Date Share Price  Release Date Share Price  \n",
       "70                0.191184          3.769556                  3.999304  \n",
       "199               0.004530          1.055000                  1.140000  \n",
       "268               0.200777          0.130000                  0.130000  \n",
       "335               3.963261          1.429103                  1.410299  \n",
       "339               0.036760          1.875000                  1.830000  \n",
       "340               0.093783         11.270823                 11.997972  \n",
       "349               0.000003          1.738888                  1.716666  \n",
       "350               0.079236          1.030000                  1.035000  \n",
       "352               0.034811          1.739718                  1.567127  \n",
       "353               3.483794          3.944195                  3.715113  \n",
       "355               0.475970          5.899095                  5.809307  \n",
       "356               1.024601          5.650000                  5.430000  "
      ]
     },
     "metadata": {},
     "output_type": "display_data"
    }
   ],
   "source": [
    "# ---------- Add Symbol + Normalized dates ----------\n",
    "work = hist_df.copy()\n",
    "work[\"Symbol\"] = work[\"Ticker\"].str.upper().str.strip() + \".AX\"\n",
    "work[\"Date_norm\"] = pd.to_datetime(work[\"Date\"]).dt.normalize()\n",
    "work[\"ReleaseDate_norm\"] = pd.to_datetime(work[\"ReleaseDate\"]).dt.normalize()\n",
    "\n",
    "syms = sorted(work[\"Symbol\"].dropna().unique())\n",
    "start = pd.to_datetime(work[[\"Date_norm\",\"ReleaseDate_norm\"]].min().min()) - pd.Timedelta(days=2)\n",
    "end   = pd.to_datetime(work[[\"Date_norm\",\"ReleaseDate_norm\"]].max().max()) + pd.Timedelta(days=5)\n",
    "\n",
    "# ---------- Float snapshot with fallback ----------\n",
    "def _safe_float_info(sym: str) -> dict:\n",
    "    out = {\"Symbol\": sym, \"floatShares\": np.nan, \"sharesOutstanding\": np.nan, \"heldPercentInsiders\": np.nan}\n",
    "    try:\n",
    "        tkr = yf.Ticker(sym)\n",
    "        fi = getattr(tkr, \"fast_info\", None)\n",
    "        if fi:\n",
    "            out[\"floatShares\"] = getattr(fi, \"shares_float\", np.nan)\n",
    "            out[\"sharesOutstanding\"] = getattr(fi, \"shares_outstanding\", np.nan)\n",
    "        if pd.isna(out[\"floatShares\"]) or pd.isna(out[\"sharesOutstanding\"]):\n",
    "            try:\n",
    "                info = tkr.get_info()\n",
    "            except Exception:\n",
    "                info = getattr(tkr, \"info\", {}) or {}\n",
    "            if info:\n",
    "                fs = info.get(\"floatShares\")\n",
    "                so = info.get(\"sharesOutstanding\") or info.get(\"impliedSharesOutstanding\")\n",
    "                hpi = info.get(\"heldPercentInsiders\")\n",
    "                if fs not in (None, \"\"):\n",
    "                    out[\"floatShares\"] = float(fs)\n",
    "                if so not in (None, \"\"):\n",
    "                    out[\"sharesOutstanding\"] = float(so)\n",
    "                if isinstance(hpi, (int, float)):\n",
    "                    out[\"heldPercentInsiders\"] = float(hpi)\n",
    "    except Exception:\n",
    "        pass\n",
    "    return out\n",
    "\n",
    "float_df = pd.DataFrame(_safe_float_info(s) for s in syms)\n",
    "work = work.merge(float_df, on=\"Symbol\", how=\"left\")\n",
    "\n",
    "# ---------- Free Float Estimate ----------\n",
    "ff_from_insiders = work[\"sharesOutstanding\"] * (1 - work[\"heldPercentInsiders\"].fillna(0))\n",
    "ff_candidates = pd.concat([work[\"floatShares\"], ff_from_insiders], axis=1)\n",
    "work[\"Date Free Float\"] = ff_candidates.max(axis=1)\n",
    "\n",
    "# ---------- Short Interest as % of free float ----------\n",
    "m_ff = work[\"Short Positions\"].notna() & work[\"Date Free Float\"].gt(0)\n",
    "work.loc[m_ff, \"Shorts (Free Float %)\"] = 100 * work.loc[m_ff, \"Short Positions\"] / work.loc[m_ff, \"Date Free Float\"]\n",
    "\n",
    "# ---------- Price history (batch to reduce errors) ----------\n",
    "batch_size = 50\n",
    "price_frames = []\n",
    "for i in range(0, len(syms), batch_size):\n",
    "    batch = syms[i:i+batch_size]\n",
    "    try:\n",
    "        data = yf.download(\n",
    "            batch,\n",
    "            start=start.strftime(\"%Y-%m-%d\"),\n",
    "            end=end.strftime(\"%Y-%m-%d\"),\n",
    "            auto_adjust=False,\n",
    "            progress=False,\n",
    "            threads=True,\n",
    "        )\n",
    "        if \"Close\" in data.columns:   # Multi-ticker DataFrame\n",
    "            data = data[\"Close\"]\n",
    "        elif isinstance(data, pd.Series):  # Single ticker fallback\n",
    "            data = data.to_frame(name=batch[0])\n",
    "        data.index = pd.to_datetime(data.index).normalize()\n",
    "        price_frames.append(data)\n",
    "        print(f\"✓ Batch {i//batch_size+1}: {len(batch)} tickers\")\n",
    "    except Exception as e:\n",
    "        print(f\"⚠️ Batch {i//batch_size+1} failed: {e}\")\n",
    "\n",
    "if price_frames:\n",
    "    prices = pd.concat(price_frames, axis=1).sort_index()\n",
    "else:\n",
    "    prices = pd.DataFrame()\n",
    "\n",
    "# ---------- Align prices to Date & ReleaseDate ----------\n",
    "asof_idx = pd.to_datetime(work[\"Date_norm\"].unique())\n",
    "rel_idx  = pd.to_datetime(work[\"ReleaseDate_norm\"].unique())\n",
    "\n",
    "asof_price = prices.reindex(asof_idx, method=\"bfill\").stack().reset_index()\n",
    "asof_price.columns = [\"Date_norm\",\"Symbol\",\"Date Share Price\"]\n",
    "\n",
    "rel_price = prices.reindex(rel_idx, method=\"bfill\").stack().reset_index()\n",
    "rel_price.columns = [\"ReleaseDate_norm\",\"Symbol\",\"Release Date Share Price\"]\n",
    "\n",
    "# ---------- Merge back ----------\n",
    "hist_df = (work\n",
    "    .merge(asof_price, on=[\"Date_norm\",\"Symbol\"], how=\"left\")\n",
    "    .merge(rel_price, on=[\"ReleaseDate_norm\",\"Symbol\"], how=\"left\")\n",
    "    .drop(columns=[\"Symbol\",\"Date_norm\",\"ReleaseDate_norm\",\n",
    "                   \"floatShares\",\"sharesOutstanding\",\"heldPercentInsiders\"])\n",
    "    .sort_values([\"Date\",\"Ticker\"])\n",
    "    .reset_index(drop=True)\n",
    ")\n",
    "\n",
    "# ---------- Drop bad rows (require all critical fields) ----------\n",
    "critical_cols = [\"Date Share Price\",\"Release Date Share Price\",\"Date Free Float\",\"Shorts (Free Float %)\"]\n",
    "hist_df = hist_df.dropna(subset=critical_cols)\n",
    "\n",
    "# ---------- Preview ----------\n",
    "print(\"Final cleaned dataset:\")\n",
    "print(\"Prices on Date:\", hist_df[\"Date Share Price\"].notna().sum(), \"/\", len(hist_df))\n",
    "print(\"Prices on ReleaseDate:\", hist_df[\"Release Date Share Price\"].notna().sum(), \"/\", len(hist_df))\n",
    "print(\"Free float present:\", hist_df[\"Date Free Float\"].notna().sum(), \"/\", len(hist_df))\n",
    "print(\">100% after fix:\", (hist_df[\"Shorts (Free Float %)\"] > 100).sum())\n",
    "\n",
    "display(hist_df.head(12)[[\n",
    "    \"Date\",\"ReleaseDate\",\"Ticker\",\"Company\",\n",
    "    \"Short Positions\",\"Total Volume\",\"Shorts (%)\",\n",
    "    \"Date Free Float\",\"Shorts (Free Float %)\",\n",
    "    \"Date Share Price\",\"Release Date Share Price\"\n",
    "]])"
   ]
  },
  {
   "cell_type": "markdown",
   "id": "cef13b07",
   "metadata": {},
   "source": [
    "## Adding Signals\n",
    "- **mom_12w**  \n",
    "  *12-week momentum.*  \n",
    "  The percentage return of the share price over the last 12 weeks. Positive momentum means the stock has been trending upwards; negative means downwards.\n",
    "\n",
    "- **si_percentile_52w**  \n",
    "  *Short interest percentile (52 weeks).*  \n",
    "  Where the current short interest (% of free float) ranks compared to the last 52 weeks.  \n",
    "  - Value near 1.0 → current SI is very high relative to history.  \n",
    "  - Value near 0.0 → current SI is very low relative to history.\n",
    "\n",
    "- **si_up_weeks**  \n",
    "  *Persistence of short builds.*  \n",
    "  Number of the past 5 weeks where short interest increased.  \n",
    "  - Higher values indicate consistent short builds.  \n",
    "  - Used as a persistence signal (e.g., 4/5 weeks up = strong conviction).\n",
    "\n",
    "- **mom_si_interact**  \n",
    "  *Momentum × Short interest interaction.*  \n",
    "  A combined factor capturing when **momentum is negative (price falling)** *and* **short interest is high or rising**.  \n",
    "  This interaction often points to stocks under pressure from both technicals and positioning.\n",
    "\n",
    "- **vol_4w**  \n",
    "  *4-week realized volatility.*  \n",
    "  The standard deviation of weekly returns over the past 4 weeks.  \n",
    "  Indicates how volatile the stock has been recently; higher volatility may amplify short opportunities.\n"
   ]
  },
  {
   "cell_type": "code",
   "execution_count": 5,
   "id": "15a64d21",
   "metadata": {},
   "outputs": [
    {
     "data": {
      "text/html": [
       "<div>\n",
       "<style scoped>\n",
       "    .dataframe tbody tr th:only-of-type {\n",
       "        vertical-align: middle;\n",
       "    }\n",
       "\n",
       "    .dataframe tbody tr th {\n",
       "        vertical-align: top;\n",
       "    }\n",
       "\n",
       "    .dataframe thead th {\n",
       "        text-align: right;\n",
       "    }\n",
       "</style>\n",
       "<table border=\"1\" class=\"dataframe\">\n",
       "  <thead>\n",
       "    <tr style=\"text-align: right;\">\n",
       "      <th></th>\n",
       "      <th>Date</th>\n",
       "      <th>Ticker</th>\n",
       "      <th>Date Share Price</th>\n",
       "      <th>Shorts (Free Float %)</th>\n",
       "      <th>mom_12w</th>\n",
       "      <th>si_percentile_52w</th>\n",
       "      <th>si_up_weeks</th>\n",
       "      <th>mom_si_interact</th>\n",
       "      <th>vol_4w</th>\n",
       "    </tr>\n",
       "  </thead>\n",
       "  <tbody>\n",
       "    <tr>\n",
       "      <th>370259</th>\n",
       "      <td>2025-08-22</td>\n",
       "      <td>WES</td>\n",
       "      <td>94.629997</td>\n",
       "      <td>0.572624</td>\n",
       "      <td>0.144949</td>\n",
       "      <td>0.384615</td>\n",
       "      <td>3.0</td>\n",
       "      <td>0.083001</td>\n",
       "      <td>0.012319</td>\n",
       "    </tr>\n",
       "    <tr>\n",
       "      <th>370260</th>\n",
       "      <td>2025-08-22</td>\n",
       "      <td>WGX</td>\n",
       "      <td>3.220000</td>\n",
       "      <td>3.059242</td>\n",
       "      <td>0.091525</td>\n",
       "      <td>0.711538</td>\n",
       "      <td>3.0</td>\n",
       "      <td>0.279998</td>\n",
       "      <td>0.078503</td>\n",
       "    </tr>\n",
       "    <tr>\n",
       "      <th>370261</th>\n",
       "      <td>2025-08-22</td>\n",
       "      <td>WHC</td>\n",
       "      <td>6.530000</td>\n",
       "      <td>4.136133</td>\n",
       "      <td>0.193784</td>\n",
       "      <td>0.519231</td>\n",
       "      <td>2.0</td>\n",
       "      <td>0.801518</td>\n",
       "      <td>0.058172</td>\n",
       "    </tr>\n",
       "    <tr>\n",
       "      <th>370262</th>\n",
       "      <td>2025-08-22</td>\n",
       "      <td>WHK</td>\n",
       "      <td>0.010000</td>\n",
       "      <td>0.010707</td>\n",
       "      <td>-0.285714</td>\n",
       "      <td>0.509615</td>\n",
       "      <td>0.0</td>\n",
       "      <td>-0.003059</td>\n",
       "      <td>0.101236</td>\n",
       "    </tr>\n",
       "    <tr>\n",
       "      <th>370263</th>\n",
       "      <td>2025-08-22</td>\n",
       "      <td>WJL</td>\n",
       "      <td>0.940000</td>\n",
       "      <td>0.630144</td>\n",
       "      <td>0.068182</td>\n",
       "      <td>0.086957</td>\n",
       "      <td>0.0</td>\n",
       "      <td>0.042964</td>\n",
       "      <td>0.038768</td>\n",
       "    </tr>\n",
       "    <tr>\n",
       "      <th>370264</th>\n",
       "      <td>2025-08-22</td>\n",
       "      <td>WMG</td>\n",
       "      <td>0.235000</td>\n",
       "      <td>0.000441</td>\n",
       "      <td>0.270270</td>\n",
       "      <td>0.425000</td>\n",
       "      <td>1.0</td>\n",
       "      <td>0.000119</td>\n",
       "      <td>0.112205</td>\n",
       "    </tr>\n",
       "    <tr>\n",
       "      <th>370265</th>\n",
       "      <td>2025-08-22</td>\n",
       "      <td>WOR</td>\n",
       "      <td>12.910000</td>\n",
       "      <td>0.239914</td>\n",
       "      <td>-0.008449</td>\n",
       "      <td>0.038462</td>\n",
       "      <td>2.0</td>\n",
       "      <td>-0.002027</td>\n",
       "      <td>0.010893</td>\n",
       "    </tr>\n",
       "    <tr>\n",
       "      <th>370266</th>\n",
       "      <td>2025-08-22</td>\n",
       "      <td>WOW</td>\n",
       "      <td>33.119999</td>\n",
       "      <td>1.188328</td>\n",
       "      <td>0.038570</td>\n",
       "      <td>1.000000</td>\n",
       "      <td>4.0</td>\n",
       "      <td>0.045834</td>\n",
       "      <td>0.007312</td>\n",
       "    </tr>\n",
       "    <tr>\n",
       "      <th>370267</th>\n",
       "      <td>2025-08-22</td>\n",
       "      <td>WTC</td>\n",
       "      <td>112.589996</td>\n",
       "      <td>2.190222</td>\n",
       "      <td>0.074845</td>\n",
       "      <td>0.884615</td>\n",
       "      <td>1.0</td>\n",
       "      <td>0.163927</td>\n",
       "      <td>0.029306</td>\n",
       "    </tr>\n",
       "    <tr>\n",
       "      <th>370268</th>\n",
       "      <td>2025-08-22</td>\n",
       "      <td>XRO</td>\n",
       "      <td>167.979996</td>\n",
       "      <td>1.176481</td>\n",
       "      <td>-0.074337</td>\n",
       "      <td>0.288462</td>\n",
       "      <td>1.0</td>\n",
       "      <td>-0.087457</td>\n",
       "      <td>0.022372</td>\n",
       "    </tr>\n",
       "    <tr>\n",
       "      <th>370269</th>\n",
       "      <td>2025-08-22</td>\n",
       "      <td>YAL</td>\n",
       "      <td>5.430000</td>\n",
       "      <td>8.738948</td>\n",
       "      <td>0.077381</td>\n",
       "      <td>0.903846</td>\n",
       "      <td>2.0</td>\n",
       "      <td>0.676228</td>\n",
       "      <td>0.079039</td>\n",
       "    </tr>\n",
       "    <tr>\n",
       "      <th>370270</th>\n",
       "      <td>2025-08-22</td>\n",
       "      <td>ZIP</td>\n",
       "      <td>3.750000</td>\n",
       "      <td>3.218056</td>\n",
       "      <td>0.903553</td>\n",
       "      <td>0.519231</td>\n",
       "      <td>3.0</td>\n",
       "      <td>2.907685</td>\n",
       "      <td>0.079539</td>\n",
       "    </tr>\n",
       "  </tbody>\n",
       "</table>\n",
       "</div>"
      ],
      "text/plain": [
       "             Date Ticker  Date Share Price  Shorts (Free Float %)   mom_12w  \\\n",
       "370259 2025-08-22    WES         94.629997               0.572624  0.144949   \n",
       "370260 2025-08-22    WGX          3.220000               3.059242  0.091525   \n",
       "370261 2025-08-22    WHC          6.530000               4.136133  0.193784   \n",
       "370262 2025-08-22    WHK          0.010000               0.010707 -0.285714   \n",
       "370263 2025-08-22    WJL          0.940000               0.630144  0.068182   \n",
       "370264 2025-08-22    WMG          0.235000               0.000441  0.270270   \n",
       "370265 2025-08-22    WOR         12.910000               0.239914 -0.008449   \n",
       "370266 2025-08-22    WOW         33.119999               1.188328  0.038570   \n",
       "370267 2025-08-22    WTC        112.589996               2.190222  0.074845   \n",
       "370268 2025-08-22    XRO        167.979996               1.176481 -0.074337   \n",
       "370269 2025-08-22    YAL          5.430000               8.738948  0.077381   \n",
       "370270 2025-08-22    ZIP          3.750000               3.218056  0.903553   \n",
       "\n",
       "        si_percentile_52w  si_up_weeks  mom_si_interact    vol_4w  \n",
       "370259           0.384615          3.0         0.083001  0.012319  \n",
       "370260           0.711538          3.0         0.279998  0.078503  \n",
       "370261           0.519231          2.0         0.801518  0.058172  \n",
       "370262           0.509615          0.0        -0.003059  0.101236  \n",
       "370263           0.086957          0.0         0.042964  0.038768  \n",
       "370264           0.425000          1.0         0.000119  0.112205  \n",
       "370265           0.038462          2.0        -0.002027  0.010893  \n",
       "370266           1.000000          4.0         0.045834  0.007312  \n",
       "370267           0.884615          1.0         0.163927  0.029306  \n",
       "370268           0.288462          1.0        -0.087457  0.022372  \n",
       "370269           0.903846          2.0         0.676228  0.079039  \n",
       "370270           0.519231          3.0         2.907685  0.079539  "
      ]
     },
     "metadata": {},
     "output_type": "display_data"
    }
   ],
   "source": [
    "# ---------- Build Signals ----------\n",
    "def build_signals(df: pd.DataFrame) -> pd.DataFrame:\n",
    "    df = df.copy()\n",
    "    g = df.groupby(\"Ticker\", group_keys=False)\n",
    "\n",
    "    # --- 1. Momentum (12-week return)\n",
    "    df[\"mom_12w\"] = g[\"Date Share Price\"].transform(lambda x: x.pct_change(periods=12))\n",
    "\n",
    "    # --- 2. Short interest percentile (52 weeks)\n",
    "    def rolling_percentile(x, window=52):\n",
    "        return x.rolling(window, min_periods=12).apply(\n",
    "            lambda s: pd.Series(s).rank(pct=True).iloc[-1], raw=False\n",
    "        )\n",
    "    df[\"si_percentile_52w\"] = g[\"Shorts (Free Float %)\"].transform(rolling_percentile)\n",
    "\n",
    "    # --- 3. Persistence of SI build (count of up weeks in last 5)\n",
    "    def count_up_weeks(x):\n",
    "        return x.diff().gt(0).rolling(5, min_periods=3).sum()\n",
    "    df[\"si_up_weeks\"] = g[\"Shorts (Free Float %)\"].transform(count_up_weeks)\n",
    "\n",
    "    # --- 4. Interaction: momentum × SI\n",
    "    df[\"mom_si_interact\"] = df[\"mom_12w\"] * df[\"Shorts (Free Float %)\"]\n",
    "\n",
    "    # --- 5. Volatility (4-week rolling std of returns)\n",
    "    df[\"ret_1w\"] = g[\"Date Share Price\"].transform(lambda x: x.pct_change(periods=1))\n",
    "    df[\"vol_4w\"] = g[\"ret_1w\"].transform(lambda x: x.rolling(4, min_periods=3).std())\n",
    "\n",
    "    return df\n",
    "\n",
    "# ---------- Apply ----------\n",
    "signals_df = build_signals(hist_df)\n",
    "\n",
    "# ---------- Preview ----------\n",
    "display(signals_df.tail(12)[[\n",
    "    \"Date\", \"Ticker\", \"Date Share Price\", \"Shorts (Free Float %)\",\n",
    "    \"mom_12w\", \"si_percentile_52w\", \"si_up_weeks\",\n",
    "    \"mom_si_interact\", \"vol_4w\"\n",
    "]])\n"
   ]
  },
  {
   "cell_type": "markdown",
   "id": "5d0d33bb",
   "metadata": {},
   "source": [
    "## Train model to determine best score\n",
    "*Lasso Regression*  \n",
    "Lorem ipsum"
   ]
  },
  {
   "cell_type": "code",
   "execution_count": 23,
   "id": "01d8c805",
   "metadata": {},
   "outputs": [
    {
     "name": "stdout",
     "output_type": "stream",
     "text": [
      "---- Logistic Regression (statsmodels) summary on TRAIN ----\n",
      "                         Results: Logit\n",
      "=================================================================\n",
      "Model:              Logit            Method:           MLE       \n",
      "Dependent Variable: y                Pseudo R-squared: 0.001     \n",
      "Date:               2025-09-04 08:29 AIC:              70015.6612\n",
      "No. Observations:   50534            BIC:              70068.6436\n",
      "Df Model:           5                Log-Likelihood:   -35002.   \n",
      "Df Residuals:       50528            LL-Null:          -35025.   \n",
      "Converged:          1.0000           LLR p-value:      5.4784e-09\n",
      "No. Iterations:     4.0000           Scale:            1.0000    \n",
      "-------------------------------------------------------------------\n",
      "           Coef.    Std.Err.      z      P>|z|     [0.025    0.975]\n",
      "-------------------------------------------------------------------\n",
      "const     -0.0320     0.0124   -2.5744   0.0100   -0.0564   -0.0076\n",
      "x1         0.0000     0.0000    2.9130   0.0036    0.0000    0.0000\n",
      "x2        -0.0000     0.0000   -5.2869   0.0000   -0.0000   -0.0000\n",
      "x3        -0.0010     0.0042   -0.2425   0.8084   -0.0093    0.0073\n",
      "x4         0.0000     0.0000    3.7979   0.0001    0.0000    0.0000\n",
      "x5         0.0045     0.0017    2.6085   0.0091    0.0011    0.0079\n",
      "=================================================================\n",
      "\n",
      "\n",
      "Trained on earliest 300 weeks (through 2016-03-07); first trade week will be 2016-03-14.  Fit time: 0.09s\n"
     ]
    }
   ],
   "source": [
    "# --- Config ---\n",
    "TRAIN_WEEKS = 300   # train on the earliest N weeks\n",
    "H = 4               # prediction horizon (exit after H weeks)\n",
    "\n",
    "# --- Get the data frame ---\n",
    "if 'panel' in globals() and isinstance(panel, pd.DataFrame):\n",
    "    df = panel.copy()\n",
    "elif 'hist_df' in globals() and isinstance(hist_df, pd.DataFrame):\n",
    "    df = hist_df.copy()\n",
    "else:\n",
    "    raise NameError(\"Need 'panel' or 'hist_df' with at least ['Date','Ticker','Date Share Price'].\")\n",
    "\n",
    "# --- Clean & sort ---\n",
    "df[\"Date\"] = pd.to_datetime(df[\"Date\"])\n",
    "df[\"Date Share Price\"] = pd.to_numeric(df[\"Date Share Price\"], errors=\"coerce\")\n",
    "df = df.sort_values([\"Ticker\",\"Date\"]).reset_index(drop=True)\n",
    "\n",
    "# --- Build H-week forward labels (negative long return is good for a short) ---\n",
    "df[\"px_t\"]  = df[\"Date Share Price\"]\n",
    "df[\"px_t4\"] = df.groupby(\"Ticker\")[\"px_t\"].shift(-H)\n",
    "df[\"ret_fwd_long\"]  = (df[\"px_t4\"] - df[\"px_t\"]) / df[\"px_t\"]\n",
    "df[\"ret_fwd_short\"] = -df[\"ret_fwd_long\"]\n",
    "df[\"y_down\"] = np.where(df[\"ret_fwd_long\"].notna(), (df[\"ret_fwd_long\"] < 0).astype(int), np.nan)\n",
    "\n",
    "# --- Features: all numeric columns except excluded ---\n",
    "exclude = {\n",
    "    \"Date\",\"Ticker\",\"Company\",\"Date Share Price\",\"Release Date Share Price\",\n",
    "    \"px_t\",\"px_t4\",\"ret_fwd_long\",\"ret_fwd_short\",\"y_down\"\n",
    "}\n",
    "ZCOLS = [c for c in df.columns if c not in exclude and pd.api.types.is_numeric_dtype(df[c])]\n",
    "if not ZCOLS:\n",
    "    raise ValueError(\"No numeric feature columns found for ZCOLS.\")\n",
    "\n",
    "# --- Training window = earliest TRAIN_WEEKS (drop last H to avoid look-ahead) ---\n",
    "dates = np.array(sorted(df[\"Date\"].unique()))\n",
    "total_weeks = len(dates)\n",
    "need = TRAIN_WEEKS + H + 1\n",
    "if total_weeks < need:\n",
    "    raise ValueError(f\"Not enough history: have {total_weeks} weeks; need ≥ {need}.\")\n",
    "\n",
    "train_end_idx   = TRAIN_WEEKS - 1\n",
    "train_end_date  = dates[train_end_idx]\n",
    "cutoff_for_label = train_end_date - pd.Timedelta(weeks=H)\n",
    "\n",
    "train = df[(df[\"Date\"] <= cutoff_for_label) & df[\"y_down\"].notna()].copy()\n",
    "train = train.dropna(subset=ZCOLS)\n",
    "if train.empty:\n",
    "    raise ValueError(\"Training slice empty after cutoff/label filtering.\")\n",
    "\n",
    "# --- Fit classifier for predictions (sklearn) ---\n",
    "t0 = time.time()\n",
    "clf = LogisticRegression(penalty=\"l2\", solver=\"lbfgs\", C=1.0, max_iter=1000,\n",
    "                         fit_intercept=True, class_weight=\"balanced\")\n",
    "clf.fit(train[ZCOLS].values, train[\"y_down\"].astype(int).values)\n",
    "\n",
    "# --- ALSO fit a statsmodels Logit to print a full regression summary ---\n",
    "X_sm = sm.add_constant(train[ZCOLS], has_constant='add')\n",
    "logit = sm.Logit(train[\"y_down\"].astype(int).values, X_sm.values)\n",
    "logit_res = logit.fit(disp=False)\n",
    "\n",
    "print(\"---- Logistic Regression (statsmodels) summary on TRAIN ----\")\n",
    "print(logit_res.summary2())\n",
    "\n",
    "# --- Keep commonly used objects in memory for the trading chunk ---\n",
    "trade_start_idx  = TRAIN_WEEKS                  # first entry = dates[TRAIN_WEEKS]\n",
    "trade_start_date = dates[trade_start_idx]\n",
    "print(f\"\\nTrained on earliest {TRAIN_WEEKS} weeks (through {pd.to_datetime(train_end_date).date()}); \"\n",
    "      f\"first trade week will be {pd.to_datetime(trade_start_date).date()}.  \"\n",
    "      f\"Fit time: {time.time()-t0:.2f}s\")\n"
   ]
  },
  {
   "cell_type": "markdown",
   "id": "818a864f",
   "metadata": {},
   "source": [
    "## Trading"
   ]
  },
  {
   "cell_type": "code",
   "execution_count": 31,
   "id": "f963bd2e",
   "metadata": {},
   "outputs": [
    {
     "name": "stdout",
     "output_type": "stream",
     "text": [
      "\n",
      "---- TRADING SUMMARY (10% stop; strong-only; re-entry after exit) ----\n",
      "                       metric       value\n",
      "                  Train weeks         300\n",
      "               H (hold weeks)           4\n",
      "                Start trading  2016-03-14\n",
      "                 Total trades         529\n",
      "           Stopped-out trades         166\n",
      "             Weeks with exits         287\n",
      "Weeks traded (entries placed)         290\n",
      "             Avg trade return     0.03126\n",
      "          Median trade return    0.009175\n",
      "  Hit rate (short profitable)    0.512287\n",
      "         Avg exit-week return    0.015815\n",
      "      Final cumulative return  319.365184\n",
      "\n",
      "First 10 trades:\n",
      "entry_date  exit_date Ticker  entry_price  exit_price  realized_ret  prob_down  held_weeks  stopped_out\n",
      "2016-03-14 2016-03-18    MYR        1.120      1.2320     -0.100000   0.550989           1         True\n",
      "2016-03-14 2016-04-11    FMG        2.580      2.8380     -0.100000   0.561482           3         True\n",
      "2016-03-14 2016-04-18    MTS        1.800      1.6550      0.080556   0.565979           4        False\n",
      "2016-03-18 2016-05-02    MYR        1.240      1.0200      0.177419   0.550512           4        False\n",
      "2016-05-02 2016-05-16    MYR        1.020      1.1220     -0.100000   0.552768           2         True\n",
      "2016-04-18 2016-05-23    MTS        1.655      1.8205     -0.100000   0.559137           4         True\n",
      "2016-05-16 2016-06-20    MYR        1.225      1.1100      0.093878   0.557184           4        False\n",
      "2016-05-23 2016-06-27    MTS        1.955      1.8450      0.056266   0.557212           4        False\n",
      "2016-06-20 2016-07-18    MYR        1.110      1.2100     -0.090090   0.558755           4        False\n",
      "2016-06-27 2016-07-25    MTS        1.845      2.0295     -0.100000   0.559619           4         True\n"
     ]
    }
   ],
   "source": [
    "# --- Trading config (tweak to taste) ---\n",
    "TOP_DECILE_Q    = 0.80   # compute top-decile threshold each week\n",
    "MIN_PROB_FLOOR  = 0.55   # do NOT trade unless prob_down >= this floor\n",
    "STRONG_THRESH   = 0.85   # always trade if prob_down >= this (even if < top decile due to small universes)\n",
    "STOP_LOSS       = 0.10   # 10% stop-loss for shorts (weekly-close based)\n",
    "\n",
    "# --- Safety checks (requires vars from the training chunk) ---\n",
    "for var in [\"df\",\"clf\",\"ZCOLS\",\"dates\",\"H\",\"TRAIN_WEEKS\",\"trade_start_idx\",\"trade_start_date\"]:\n",
    "    if var not in globals():\n",
    "        raise NameError(f\"Missing '{var}'. Run the training chunk first.\")\n",
    "\n",
    "# Helper: compute short trade exit with stop-loss using weekly closes\n",
    "def _short_with_stop(g: pd.DataFrame, entry_idx: int, H: int, stop_loss: float):\n",
    "    \"\"\"\n",
    "    g: single-ticker frame sorted by Date, with 'Date' and 'Date Share Price'.\n",
    "    Returns (exit_idx, exit_date, entry_price, exit_price, realized_ret), or None if path incomplete.\n",
    "    Stop triggers if weekly close >= entry * (1+stop_loss); filled at stop price (-stop_loss return).\n",
    "    Otherwise exit at entry_idx+H.\n",
    "    \"\"\"\n",
    "    entry_price = float(g.loc[entry_idx, \"Date Share Price\"])\n",
    "    if not np.isfinite(entry_price) or entry_price == 0:\n",
    "        return None\n",
    "    stop_price = entry_price * (1.0 + stop_loss)\n",
    "\n",
    "    # scan forward weeks for a stop hit first\n",
    "    for j in range(1, H + 1):\n",
    "        idx = entry_idx + j\n",
    "        if idx not in g.index:\n",
    "            return None\n",
    "        p = float(g.loc[idx, \"Date Share Price\"])\n",
    "        if np.isfinite(p) and p >= stop_price:  # adverse move for a short\n",
    "            exit_idx   = idx\n",
    "            exit_price = stop_price\n",
    "            realized   = -stop_loss\n",
    "            exit_date  = pd.to_datetime(g.loc[idx, \"Date\"])\n",
    "            return exit_idx, exit_date, entry_price, exit_price, realized\n",
    "\n",
    "    # no stop hit -> exit at horizon\n",
    "    exit_idx   = entry_idx + H\n",
    "    if exit_idx not in g.index:\n",
    "        return None\n",
    "    exit_price = float(g.loc[exit_idx, \"Date Share Price\"])\n",
    "    exit_date  = pd.to_datetime(g.loc[exit_idx, \"Date\"])\n",
    "    if not np.isfinite(exit_price):\n",
    "        return None\n",
    "    realized   = (entry_price - exit_price) / entry_price\n",
    "    return exit_idx, exit_date, entry_price, exit_price, realized\n",
    "\n",
    "pred_rows, weekly_equity, all_trades = [], [], []\n",
    "total_weeks = len(dates)\n",
    "\n",
    "# Track open positions: ticker -> actual exit_date (prevents overlaps)\n",
    "open_positions = {}\n",
    "\n",
    "for i in range(trade_start_idx, total_weeks - H):  # stop so exits exist\n",
    "    wk_date = dates[i]\n",
    "\n",
    "    # 1) Close matured positions first so the same ticker can be re-entered this week if it qualifies\n",
    "    for tkr, exdt in list(open_positions.items()):\n",
    "        if exdt <= wk_date:\n",
    "            del open_positions[tkr]\n",
    "\n",
    "    # 2) Universe for this week, excluding currently open tickers and rows with missing features\n",
    "    test = df[df[\"Date\"] == wk_date]\n",
    "    if not test.empty:\n",
    "        mask = np.isfinite(test[ZCOLS]).all(axis=1)\n",
    "        test = test.loc[mask]\n",
    "        if open_positions:\n",
    "            test = test[~test[\"Ticker\"].isin(open_positions.keys())]\n",
    "\n",
    "    # 3) Select trades: only if signals are strong (no forced trading weeks)\n",
    "    if test.empty:\n",
    "        picks = pd.DataFrame(columns=[\"Date\",\"Ticker\",\"prob_down\"])\n",
    "    else:\n",
    "        snap = test[[\"Date\",\"Ticker\"]].copy()\n",
    "        snap[\"prob_down\"] = clf.predict_proba(test[ZCOLS].values)[:, 1]\n",
    "\n",
    "        # threshold = max(top-decile, floor); if even that is weak, result can be empty\n",
    "        q = float(np.quantile(snap[\"prob_down\"].values, TOP_DECILE_Q)) if len(snap) >= 10 else 0.0\n",
    "        thr = max(q, MIN_PROB_FLOOR)\n",
    "\n",
    "        sel = (snap[\"prob_down\"] >= thr) | (snap[\"prob_down\"] >= STRONG_THRESH)\n",
    "        picks = snap[sel].sort_values(\"prob_down\", ascending=False).reset_index(drop=True)\n",
    "        if not picks.empty:\n",
    "            picks[\"sel_threshold\"] = thr\n",
    "            picks[\"top_decile_thr\"] = q\n",
    "            picks[\"strong_floor\"] = MIN_PROB_FLOOR\n",
    "        pred_rows.append(picks.assign(selected=True))\n",
    "\n",
    "    # 4) Create trades now; compute exit/return with stop-loss using future path\n",
    "    rows = []\n",
    "    for _, r in picks.iterrows():\n",
    "        tkr = r[\"Ticker\"]\n",
    "        g = df[df[\"Ticker\"] == tkr].sort_values(\"Date\").reset_index(drop=True)\n",
    "\n",
    "        idxs = g.index[g[\"Date\"] == wk_date].tolist()\n",
    "        if not idxs:\n",
    "            continue\n",
    "        entry_idx = idxs[0]\n",
    "\n",
    "        out = _short_with_stop(g, entry_idx, H=H, stop_loss=STOP_LOSS)\n",
    "        if out is None:\n",
    "            continue\n",
    "        exit_idx, exit_date, entry_price, exit_price, realized = out\n",
    "\n",
    "        rows.append({\n",
    "            \"Ticker\": tkr,\n",
    "            \"entry_date\": wk_date,\n",
    "            \"exit_date\":  exit_date,\n",
    "            \"entry_price\": float(entry_price),\n",
    "            \"exit_price\":  float(exit_price),\n",
    "            \"realized_ret\": float(realized),        # P&L realized only at exit_date\n",
    "            \"prob_down\": float(r[\"prob_down\"]),\n",
    "            \"held_weeks\": int(exit_idx - entry_idx),\n",
    "            \"stopped_out\": bool(abs(realized + STOP_LOSS) < 1e-12 or realized <= -STOP_LOSS + 1e-12),\n",
    "        })\n",
    "        # Mark as open until its (actual) exit_date to prevent overlapping positions\n",
    "        open_positions[tkr] = exit_date\n",
    "\n",
    "    if rows:\n",
    "        all_trades.append(pd.DataFrame(rows))\n",
    "\n",
    "    # 5) EXIT-WEEK P&L ONLY: average the returns of trades whose exit_date == this week\n",
    "    exiting = []\n",
    "    for df_tr in all_trades:\n",
    "        wk = df_tr[df_tr[\"exit_date\"] == wk_date]\n",
    "        if not wk.empty:\n",
    "            exiting.append(wk[\"realized_ret\"].mean())\n",
    "    week_ret = float(np.mean(exiting)) if exiting else 0.0\n",
    "    weekly_equity.append({\"date\": wk_date, \"period_ret\": week_ret})\n",
    "\n",
    "# --- Assemble outputs ---\n",
    "preds  = pd.concat(pred_rows, ignore_index=True) if pred_rows else pd.DataFrame()\n",
    "trades = pd.concat(all_trades, ignore_index=True) if all_trades else pd.DataFrame()\n",
    "eq     = pd.DataFrame(weekly_equity).sort_values(\"date\").reset_index(drop=True)\n",
    "\n",
    "# Safety: no trades before training finishes\n",
    "if not trades.empty:\n",
    "    trades = trades[trades[\"entry_date\"] >= trade_start_date].copy()\n",
    "    trades[\"realized_ret_check\"] = (trades[\"entry_price\"] - trades[\"exit_price\"]) / trades[\"entry_price\"]\n",
    "    trades = trades.sort_values([\"exit_date\",\"Ticker\"]).reset_index(drop=True)\n",
    "\n",
    "# --- Build weekly averages timeline (fill no-exit weeks with 0%) ---\n",
    "timeline = pd.DataFrame({\"date\": dates[trade_start_idx: total_weeks]})\n",
    "weekly = (trades.groupby(\"exit_date\", as_index=False)[\"realized_ret\"]\n",
    "                .mean()\n",
    "                .rename(columns={\"realized_ret\":\"period_ret\"}))\n",
    "weekly_full = timeline.merge(weekly, left_on=\"date\", right_on=\"exit_date\", how=\"left\")\n",
    "weekly_full[\"period_ret\"] = weekly_full[\"period_ret\"].fillna(0.0)\n",
    "weekly_full[\"cum_ret\"]    = (1.0 + weekly_full[\"period_ret\"]).cumprod() - 1.0\n",
    "\n",
    "# --- Summary table (fixed syntax; no incomplete input errors) ---\n",
    "summary = {\n",
    "    \"Train weeks\": TRAIN_WEEKS,\n",
    "    \"H (hold weeks)\": H,\n",
    "    \"Start trading\": pd.to_datetime(trade_start_date).date(),\n",
    "    \"Total trades\": int(len(trades)),\n",
    "    \"Stopped-out trades\": int(trades[\"stopped_out\"].sum()) if len(trades) else 0,\n",
    "    \"Weeks with exits\": int(weekly.shape[0]),\n",
    "    \"Weeks traded (entries placed)\": int(trades[\"entry_date\"].nunique()) if len(trades) else 0,\n",
    "    \"Avg trade return\": float(trades[\"realized_ret\"].mean()) if len(trades) else np.nan,\n",
    "    \"Median trade return\": float(trades[\"realized_ret\"].median()) if len(trades) else np.nan,\n",
    "    \"Hit rate (short profitable)\": float((trades[\"realized_ret\"] > 0).mean()) if len(trades) else np.nan,\n",
    "    \"Avg exit-week return\": float(weekly_full[\"period_ret\"].mean()) if len(weekly_full) else np.nan,\n",
    "    \"Final cumulative return\": float(weekly_full[\"cum_ret\"].iloc[-1]) if len(weekly_full) else np.nan,\n",
    "}\n",
    "summary_df = pd.DataFrame(list(summary.items()), columns=[\"metric\",\"value\"])\n",
    "print(\"\\n---- TRADING SUMMARY (10% stop; strong-only; re-entry after exit) ----\")\n",
    "print(summary_df.to_string(index=False))\n",
    "\n",
    "# (Optional) preview a few trades\n",
    "if len(trades):\n",
    "    print(\"\\nFirst 10 trades:\")\n",
    "    print(trades[[\"entry_date\",\"exit_date\",\"Ticker\",\"entry_price\",\"exit_price\",\"realized_ret\",\n",
    "                  \"prob_down\",\"held_weeks\",\"stopped_out\"]]\n",
    "          .head(10).to_string(index=False))"
   ]
  },
  {
   "cell_type": "markdown",
   "id": "3fa0cff9",
   "metadata": {},
   "source": [
    "## Print graphs and shit"
   ]
  },
  {
   "cell_type": "code",
   "execution_count": 33,
   "id": "8427a8da",
   "metadata": {},
   "outputs": [
    {
     "data": {
      "image/png": "[encoded data removed]",
      "text/plain": [
       "<Figure size 1000x400 with 1 Axes>"
      ]
     },
     "metadata": {},
     "output_type": "display_data"
    },
    {
     "data": {
      "image/png": "[encoded data removed]",
      "text/plain": [
       "<Figure size 1000x400 with 1 Axes>"
      ]
     },
     "metadata": {},
     "output_type": "display_data"
    },
    {
     "data": {
      "image/png": "[encoded data removed]",
      "text/plain": [
       "<Figure size 1000x400 with 1 Axes>"
      ]
     },
     "metadata": {},
     "output_type": "display_data"
    }
   ],
   "source": [
    "# ===== 3) PLOTS: per-trade returns, weekly averages, cumulative return =====\n",
    "import matplotlib.pyplot as plt\n",
    "\n",
    "if 'trades' not in globals() or trades.empty:\n",
    "    raise ValueError(\"No trades to plot. Run the trading chunk first.\")\n",
    "\n",
    "# 1) Per-trade realized returns (scatter by exit week)\n",
    "plt.figure(figsize=(10,4))\n",
    "plt.scatter(trades[\"exit_date\"], trades[\"realized_ret\"], alpha=0.75)\n",
    "plt.axhline(0, linestyle=\"--\", linewidth=1)\n",
    "plt.title(\"Realized short returns per trade (by exit week)\")\n",
    "plt.xlabel(\"Exit week\"); plt.ylabel(\"Realized return\")\n",
    "plt.tight_layout(); plt.show()\n",
    "\n",
    "# 2) Weekly average exit returns (bar)\n",
    "if 'weekly_full' not in globals() or weekly_full.empty:\n",
    "    raise ValueError(\"Missing 'weekly_full'. Ensure the trading chunk ran successfully.\")\n",
    "\n",
    "plt.figure(figsize=(10,4))\n",
    "plt.bar(weekly_full[\"date\"], weekly_full[\"period_ret\"])\n",
    "plt.axhline(0, linestyle=\"--\", linewidth=1)\n",
    "plt.title(\"Average exit-week return\")\n",
    "plt.xlabel(\"Week\"); plt.ylabel(\"Avg return\")\n",
    "plt.tight_layout(); plt.show()\n",
    "\n",
    "# 3) Cumulative product of weekly averages (equity curve)\n",
    "plt.figure(figsize=(10,4))\n",
    "plt.plot(weekly_full[\"date\"], weekly_full[\"cum_ret\"])\n",
    "plt.axhline(0, linestyle=\"--\", linewidth=1)\n",
    "plt.title(\"Cumulative return (product of 1 + weekly average)\")\n",
    "plt.xlabel(\"Week\"); plt.ylabel(\"Cumulative return\")\n",
    "plt.tight_layout(); plt.show()"
   ]
  },
  {
   "cell_type": "code",
   "execution_count": 30,
   "id": "1ea56808",
   "metadata": {},
   "outputs": [
    {
     "name": "stdout",
     "output_type": "stream",
     "text": [
      "DATA SPAN:        2010-06-14 → 2025-08-22\n",
      "Training ends:    2016-03-07 (TRAIN_WEEKS = 300)\n",
      "Eligible start:   2016-03-14 (first week you’re allowed to enter)\n",
      "First entry seen: 2018-02-05\n",
      "\n",
      "Earliest week with selections: 2016-03-14\n",
      "\n",
      "Reasons before 2021 (counts):\n",
      "reason\n",
      "traded    250\n",
      "\n",
      "Top-10 feature missing rates before 2021 (for your ZCOLS):\n",
      "Short Positions          0.0%\n",
      "Total Volume             0.0%\n",
      "Shorts (%)               0.0%\n",
      "Date Free Float          0.0%\n",
      "Shorts (Free Float %)    0.0%\n",
      "dtype: object\n",
      "\n",
      "First 12 eligible weeks (from trade start):\n",
      "      week  n_total  n_feat_ok  max_prob      q80  prob_floor  strong_thr  n_selected reason\n",
      "2016-03-14      198        198  0.565979 0.507832        0.55        0.95          40 traded\n",
      "2016-03-18      201        201  0.565331 0.506346        0.55        0.95          41 traded\n",
      "2016-03-28        3          3  0.500981 0.000000        0.55        0.95           3 traded\n",
      "2016-04-04      198        198  0.565901 0.507307        0.55        0.95          40 traded\n",
      "2016-04-11      195        195  0.564755 0.507547        0.55        0.95          39 traded\n",
      "2016-04-18      195        195  0.559137 0.505954        0.55        0.95          39 traded\n",
      "2016-04-25        2          2  0.500903 0.000000        0.55        0.95           2 traded\n",
      "2016-05-02      199        199  0.567660 0.506663        0.55        0.95          40 traded\n",
      "2016-05-09      204        204  0.565726 0.506666        0.55        0.95          41 traded\n",
      "2016-05-16      199        199  0.561189 0.506162        0.55        0.95          40 traded\n",
      "2016-05-23      201        201  0.557788 0.506138        0.55        0.95          41 traded\n",
      "2016-05-30      194        194  0.558700 0.506431        0.55        0.95          39 traded\n"
     ]
    },
    {
     "data": {
      "image/png": "[encoded data removed]",
      "text/plain": [
       "<Figure size 1000x400 with 1 Axes>"
      ]
     },
     "metadata": {},
     "output_type": "display_data"
    }
   ],
   "source": [
    "# Pull thresholds from globals if they exist (fallbacks match the \"less strict\" chunk)\n",
    "TOP_QUANTILE   = globals().get(\"TOP_QUANTILE\", 0.80)   # top 20%\n",
    "PROB_FLOOR     = globals().get(\"PROB_FLOOR\", 0.55)     # prob >= 0.55 passes\n",
    "STRONG_THRESH  = globals().get(\"STRONG_THRESH\", 0.85)  # very strong signals\n",
    "# (STOP_LOSS doesn't affect *entries*, so it isn't used here)\n",
    "\n",
    "# --- Safety: need the objects created by your training+trading chunks\n",
    "for var in [\"df\",\"clf\",\"ZCOLS\",\"dates\",\"H\",\"TRAIN_WEEKS\"]:\n",
    "    if var not in globals():\n",
    "        raise NameError(f\"Missing '{var}'. Run the training chunk first.\")\n",
    "\n",
    "# Recompute/confirm these in case they’re not in scope\n",
    "train_end_idx   = TRAIN_WEEKS - 1\n",
    "train_end_date  = pd.to_datetime(dates[train_end_idx])\n",
    "trade_start_idx = TRAIN_WEEKS\n",
    "trade_start_date = pd.to_datetime(dates[trade_start_idx])\n",
    "\n",
    "first_entry_date = None\n",
    "if \"trades\" in globals() and isinstance(trades, pd.DataFrame) and not trades.empty:\n",
    "    first_entry_date = pd.to_datetime(trades[\"entry_date\"].min())\n",
    "\n",
    "print(\"DATA SPAN:       \", pd.to_datetime(df[\"Date\"].min()).date(), \"→\", pd.to_datetime(df[\"Date\"].max()).date())\n",
    "print(\"Training ends:   \", train_end_date.date(), f\"(TRAIN_WEEKS = {TRAIN_WEEKS})\")\n",
    "print(\"Eligible start:  \", trade_start_date.date(), \"(first week you’re allowed to enter)\")\n",
    "print(\"First entry seen:\", first_entry_date.date() if first_entry_date is not None else \"None\")\n",
    "\n",
    "# ---- Week-by-week diagnostics (from eligible start onward)\n",
    "rows = []\n",
    "for i in range(trade_start_idx, len(dates) - H):\n",
    "    wk_date = pd.to_datetime(dates[i])\n",
    "\n",
    "    # Universe this week\n",
    "    test = df[df[\"Date\"] == wk_date]\n",
    "    n_total = len(test)\n",
    "\n",
    "    n_feat_ok = 0\n",
    "    n_selected = 0\n",
    "    max_prob = np.nan\n",
    "    q_thr = np.nan\n",
    "\n",
    "    if n_total > 0:\n",
    "        mask = np.isfinite(test[ZCOLS]).all(axis=1)\n",
    "        after_feat = test.loc[mask]\n",
    "        n_feat_ok = len(after_feat)\n",
    "\n",
    "        if n_feat_ok > 0:\n",
    "            probs = clf.predict_proba(after_feat[ZCOLS].values)[:, 1]\n",
    "            max_prob = float(np.max(probs))\n",
    "            q_thr = float(np.quantile(probs, TOP_QUANTILE)) if n_feat_ok >= 10 else 0.0\n",
    "            selected = (probs >= q_thr) | (probs >= PROB_FLOOR) | (probs >= STRONG_THRESH)\n",
    "            n_selected = int(np.sum(selected))\n",
    "\n",
    "    # Reason classification\n",
    "    if n_total == 0:\n",
    "        reason = \"no data this week\"\n",
    "    elif n_feat_ok == 0:\n",
    "        reason = \"all features NaN\"\n",
    "    elif n_selected == 0:\n",
    "        # not selected despite data+features\n",
    "        if np.isfinite(max_prob) and ((max_prob < q_thr) and (max_prob < PROB_FLOOR) and (max_prob < STRONG_THRESH)):\n",
    "            reason = \"probabilities below thresholds\"\n",
    "        else:\n",
    "            reason = \"filtered by thresholds\"\n",
    "    else:\n",
    "        reason = \"traded\"\n",
    "\n",
    "    rows.append({\n",
    "        \"week\": wk_date,\n",
    "        \"n_total\": n_total,\n",
    "        \"n_feat_ok\": n_feat_ok,\n",
    "        \"max_prob\": max_prob,\n",
    "        f\"q{int(TOP_QUANTILE*100)}\": q_thr,\n",
    "        \"prob_floor\": PROB_FLOOR,\n",
    "        \"strong_thr\": STRONG_THRESH,\n",
    "        \"n_selected\": n_selected,\n",
    "        \"reason\": reason\n",
    "    })\n",
    "\n",
    "diag = pd.DataFrame(rows)\n",
    "\n",
    "# ---- Where did trading actually begin?\n",
    "first_trade_week = diag.loc[diag[\"n_selected\"] > 0, \"week\"].min() if not diag.empty else None\n",
    "print(\"\\nEarliest week with selections:\", first_trade_week.date() if pd.notna(first_trade_week) else \"None\")\n",
    "\n",
    "# ---- Why only post-2021? Count reasons before 2021\n",
    "pre_cut = pd.Timestamp(\"2021-01-01\")\n",
    "pre_diag = diag[diag[\"week\"] < pre_cut]\n",
    "if len(pre_diag):\n",
    "    print(\"\\nReasons before 2021 (counts):\")\n",
    "    print(pre_diag[\"reason\"].value_counts().to_string())\n",
    "    print(\"\\nTop-10 feature missing rates before 2021 (for your ZCOLS):\")\n",
    "    miss_rates = df[df[\"Date\"] < pre_cut][ZCOLS].isna().mean().sort_values(ascending=False)\n",
    "    print((miss_rates.head(10) * 100).round(1).astype(str) + \"%\")\n",
    "else:\n",
    "    print(\"\\nNo eligible weeks before 2021 after the training window.\")\n",
    "\n",
    "# ---- Quick table of the first 12 eligible weeks (to see why there were no trades)\n",
    "print(\"\\nFirst 12 eligible weeks (from trade start):\")\n",
    "print(diag.head(12).to_string(index=False))\n",
    "\n",
    "# ---- Plot #picks per week so you can see when trading wakes up\n",
    "plt.figure(figsize=(10,4))\n",
    "plt.plot(diag[\"week\"], diag[\"n_selected\"])\n",
    "plt.axhline(0, linestyle=\"--\", linewidth=1)\n",
    "plt.title(\"# picks per week (after training window)\")\n",
    "plt.xlabel(\"Week\"); plt.ylabel(\"# picks\")\n",
    "plt.tight_layout(); plt.show()\n"
   ]
  },
  {
   "cell_type": "code",
   "execution_count": 34,
   "id": "067ee626",
   "metadata": {},
   "outputs": [
    {
     "name": "stdout",
     "output_type": "stream",
     "text": [
      "\n",
      "FIRST 20 TRADES:\n",
      "\n",
      "entry_date  exit_date Ticker  entry_price  exit_price  realized_ret  prob_down  held_weeks  stopped_out\n",
      "2016-03-14 2016-03-18    MYR        1.120      1.2320       -0.1000     0.5510           1         True\n",
      "2016-03-14 2016-04-11    FMG        2.580      2.8380       -0.1000     0.5615           3         True\n",
      "2016-03-14 2016-04-18    MTS        1.800      1.6550        0.0806     0.5660           4        False\n",
      "2016-03-18 2016-05-02    MYR        1.240      1.0200        0.1774     0.5505           4        False\n",
      "2016-04-18 2016-05-23    MTS        1.655      1.8205       -0.1000     0.5591           4         True\n",
      "2016-05-02 2016-05-16    MYR        1.020      1.1220       -0.1000     0.5528           2         True\n",
      "2016-05-16 2016-06-20    MYR        1.225      1.1100        0.0939     0.5572           4        False\n",
      "2016-05-23 2016-06-27    MTS        1.955      1.8450        0.0563     0.5572           4        False\n",
      "2016-06-20 2016-07-18    MYR        1.110      1.2100       -0.0901     0.5588           4        False\n",
      "2016-06-27 2016-07-25    MTS        1.845      2.0295       -0.1000     0.5596           4         True\n",
      "2016-07-18 2016-08-08    MYR        1.210      1.3310       -0.1000     0.5595           3         True\n",
      "2016-07-25 2016-08-22    MTS        2.140      2.0100        0.0607     0.5537           4        False\n",
      "2016-08-08 2016-09-05    MYR        1.335      1.3000        0.0262     0.5577           4        False\n",
      "2016-08-22 2016-08-29    MTS        2.010      2.2110       -0.1000     0.5503           1         True\n",
      "2016-09-05 2016-10-03    MYR        1.300      1.1800        0.0923     0.5555           4        False\n",
      "2016-10-03 2016-10-31    MYR        1.180      1.1750        0.0042     0.5602           4        False\n",
      "2016-10-31 2016-11-28    MYR        1.175      1.2700       -0.0809     0.5633           4        False\n",
      "2016-11-28 2017-01-02    MYR        1.270      1.3700       -0.0787     0.5596           4        False\n",
      "2017-01-02 2017-01-30    MYR        1.370      1.2200        0.1095     0.5579           4        False\n",
      "2017-01-30 2017-02-27    MYR        1.220      1.2800       -0.0492     0.5607           4        False\n"
     ]
    }
   ],
   "source": [
    "import pandas as pd\n",
    "import numpy as np\n",
    "\n",
    "# Require a trades DataFrame\n",
    "if 'trades' not in globals() or trades is None or trades.empty:\n",
    "    raise ValueError(\"`trades` is empty or missing. Run the trading chunk first.\")\n",
    "\n",
    "t = trades.copy()\n",
    "\n",
    "# Clean types for consistent printing\n",
    "for c in [\"entry_date\", \"exit_date\"]:\n",
    "    if c in t.columns:\n",
    "        t[c] = pd.to_datetime(t[c], errors=\"coerce\")\n",
    "for c in [\"entry_price\",\"exit_price\",\"realized_ret\",\"prob_down\"]:\n",
    "    if c in t.columns:\n",
    "        t[c] = pd.to_numeric(t[c], errors=\"coerce\")\n",
    "\n",
    "# Preferred column order (use what exists)\n",
    "preferred_cols = [\n",
    "    \"entry_date\",\"exit_date\",\"Ticker\",\n",
    "    \"entry_price\",\"exit_price\",\"realized_ret\",\n",
    "    \"prob_down\",\"held_weeks\",\"stopped_out\"\n",
    "]\n",
    "cols = [c for c in preferred_cols if c in t.columns]\n",
    "\n",
    "# Sort and take first 20\n",
    "out = (t.sort_values([\"entry_date\",\"exit_date\",\"Ticker\"], na_position=\"last\")\n",
    "         .loc[:, cols]\n",
    "         .head(20)\n",
    "         .copy())\n",
    "\n",
    "# Round numbers for readability\n",
    "for c in [\"entry_price\",\"exit_price\"]:\n",
    "    if c in out: out[c] = out[c].round(4)\n",
    "for c in [\"realized_ret\",\"prob_down\"]:\n",
    "    if c in out: out[c] = out[c].round(4)\n",
    "\n",
    "print(\"\\nFIRST 20 TRADES:\\n\")\n",
    "print(out.to_string(index=False))\n"
   ]
  },
  {
   "cell_type": "code",
   "execution_count": null,
   "id": "ff40c2f9",
   "metadata": {},
   "outputs": [],
   "source": []
  }
 ],
 "metadata": {
  "kernelspec": {
   "display_name": ".venv",
   "language": "python",
   "name": "python3"
  },
  "language_info": {
   "codemirror_mode": {
    "name": "ipython",
    "version": 3
   },
   "file_extension": ".py",
   "mimetype": "text/x-python",
   "name": "python",
   "nbconvert_exporter": "python",
   "pygments_lexer": "ipython3",
   "version": "3.13.7"
  }
 },
 "nbformat": 4,
 "nbformat_minor": 5
}
